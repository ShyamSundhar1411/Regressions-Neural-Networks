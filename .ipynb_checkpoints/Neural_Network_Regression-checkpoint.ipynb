{
 "cells": [
  {
   "cell_type": "markdown",
   "metadata": {
    "id": "BkAEgpoR0VD1"
   },
   "source": [
    "## Introduction to Regression with Neural Networks in TensorFlow\n",
    "Predicting a number"
   ]
  },
  {
   "cell_type": "code",
   "execution_count": 1,
   "metadata": {
    "colab": {
     "base_uri": "https://localhost:8080/"
    },
    "id": "qeSQe1hs1EGg",
    "outputId": "abfd7a3e-93e1-4d14-d491-7dc8175f902e"
   },
   "outputs": [
    {
     "name": "stdout",
     "output_type": "stream",
     "text": [
      "2.9.1\n"
     ]
    }
   ],
   "source": [
    "import tensorflow as tf\n",
    "print(tf.__version__)"
   ]
  },
  {
   "cell_type": "markdown",
   "metadata": {
    "id": "J7tOP26N1HFx"
   },
   "source": [
    "## Creating data to view and fit"
   ]
  },
  {
   "cell_type": "code",
   "execution_count": 2,
   "metadata": {
    "id": "hFIlrCUY1Rzn"
   },
   "outputs": [],
   "source": [
    "import numpy as np\n",
    "import matplotlib.pyplot as plt\n",
    "np.random.seed(42)\n",
    "X = np.array([-7.0,-4.0,-1.0,2.0,5.0,8.0,11.0,14.0])\n",
    "Y = np.array([3.0,6.0,9.0,12.0,15.0,18.0,21.0,24.0])"
   ]
  },
  {
   "cell_type": "code",
   "execution_count": 3,
   "metadata": {
    "colab": {
     "base_uri": "https://localhost:8080/"
    },
    "id": "km_YtONK1nZp",
    "outputId": "5a320852-b11d-4bc3-fdfa-cd329f2e2717"
   },
   "outputs": [
    {
     "data": {
      "text/plain": [
       "<matplotlib.collections.PathCollection at 0x1cfdc146190>"
      ]
     },
     "execution_count": 3,
     "metadata": {},
     "output_type": "execute_result"
    },
    {
     "data": {
      "image/png": "[encoded data removed]",
      "text/plain": [
       "<Figure size 432x288 with 1 Axes>"
      ]
     },
     "metadata": {
      "needs_background": "light"
     },
     "output_type": "display_data"
    }
   ],
   "source": [
    "plt.scatter(X,Y)"
   ]
  },
  {
   "cell_type": "code",
   "execution_count": 4,
   "metadata": {
    "colab": {
     "base_uri": "https://localhost:8080/"
    },
    "id": "9CJ75QlJ1n9q",
    "outputId": "4262b95a-49fe-4fbe-efbe-fce7844aa003"
   },
   "outputs": [
    {
     "data": {
      "text/plain": [
       "array([ True,  True,  True,  True,  True,  True,  True,  True])"
      ]
     },
     "execution_count": 4,
     "metadata": {},
     "output_type": "execute_result"
    }
   ],
   "source": [
    "Y == X+10"
   ]
  },
  {
   "cell_type": "markdown",
   "metadata": {
    "id": "chqG4iVY3Xv6"
   },
   "source": [
    "## Input and Output Shapes"
   ]
  },
  {
   "cell_type": "code",
   "execution_count": 5,
   "metadata": {
    "id": "TtED-OiJ3jfi"
   },
   "outputs": [],
   "source": [
    "## Tensor for Housing Price Prediction Problem\n",
    "house_info = tf.constant(['bedroom','bathroom','garage'])\n",
    "house_price = tf.constant([937000])"
   ]
  },
  {
   "cell_type": "code",
   "execution_count": 6,
   "metadata": {
    "colab": {
     "base_uri": "https://localhost:8080/"
    },
    "id": "vStYFkwZ37L9",
    "outputId": "ff228ccb-9fe7-4cd8-8c2c-494398b7993a"
   },
   "outputs": [
    {
     "data": {
      "text/plain": [
       "TensorShape([3])"
      ]
     },
     "execution_count": 6,
     "metadata": {},
     "output_type": "execute_result"
    }
   ],
   "source": [
    "house_info.shape"
   ]
  },
  {
   "cell_type": "code",
   "execution_count": 7,
   "metadata": {
    "colab": {
     "base_uri": "https://localhost:8080/"
    },
    "id": "vkcE4O4z39K3",
    "outputId": "a31a98ef-c8af-4558-dd8b-bcf7d99e75bb"
   },
   "outputs": [
    {
     "data": {
      "text/plain": [
       "TensorShape([1])"
      ]
     },
     "execution_count": 7,
     "metadata": {},
     "output_type": "execute_result"
    }
   ],
   "source": [
    "house_price.shape"
   ]
  },
  {
   "cell_type": "code",
   "execution_count": 8,
   "metadata": {
    "id": "b50IVOJK3-oR"
   },
   "outputs": [],
   "source": [
    "input_shape = X.shape"
   ]
  },
  {
   "cell_type": "code",
   "execution_count": 9,
   "metadata": {
    "id": "NmmJSTFr4D_m"
   },
   "outputs": [],
   "source": [
    "output_shape = Y.shape"
   ]
  },
  {
   "cell_type": "code",
   "execution_count": 10,
   "metadata": {
    "colab": {
     "base_uri": "https://localhost:8080/"
    },
    "id": "LOBofXJS4Fjf",
    "outputId": "7243319e-698b-45cb-af82-9a97fabad741"
   },
   "outputs": [
    {
     "data": {
      "text/plain": [
       "((8,), (8,))"
      ]
     },
     "execution_count": 10,
     "metadata": {},
     "output_type": "execute_result"
    }
   ],
   "source": [
    "input_shape,output_shape"
   ]
  },
  {
   "cell_type": "code",
   "execution_count": null,
   "metadata": {
    "id": "Sh_Aam_04Gav"
   },
   "outputs": [],
   "source": []
  },
  {
   "cell_type": "code",
   "execution_count": 11,
   "metadata": {
    "id": "MjuBPuMA4Iyp"
   },
   "outputs": [],
   "source": [
    "x = tf.constant(X)\n",
    "y = tf.constant(Y)"
   ]
  },
  {
   "cell_type": "code",
   "execution_count": 12,
   "metadata": {
    "colab": {
     "base_uri": "https://localhost:8080/"
    },
    "id": "uqNKUdht9Jv6",
    "outputId": "6d117819-0a45-46aa-fa2b-97f5f611ef31"
   },
   "outputs": [
    {
     "data": {
      "text/plain": [
       "<matplotlib.collections.PathCollection at 0x1cfdc264b50>"
      ]
     },
     "execution_count": 12,
     "metadata": {},
     "output_type": "execute_result"
    },
    {
     "data": {
      "image/png": "[encoded data removed]",
      "text/plain": [
       "<Figure size 432x288 with 1 Axes>"
      ]
     },
     "metadata": {
      "needs_background": "light"
     },
     "output_type": "display_data"
    }
   ],
   "source": [
    "plt.scatter(X,Y)"
   ]
  },
  {
   "cell_type": "markdown",
   "metadata": {
    "id": "H8bldqTbEeX1"
   },
   "source": [
    "## Improving our model\n"
   ]
  },
  {
   "cell_type": "code",
   "execution_count": 13,
   "metadata": {
    "colab": {
     "base_uri": "https://localhost:8080/"
    },
    "id": "t2Kb2uAd9Lbo",
    "outputId": "eafa4ad9-9a8e-45e3-bb37-7e27c9369d4e"
   },
   "outputs": [
    {
     "name": "stderr",
     "output_type": "stream",
     "text": [
      "C:\\Users\\shyam\\anaconda3\\lib\\site-packages\\keras\\optimizers\\optimizer_v2\\adam.py:110: UserWarning: The `lr` argument is deprecated, use `learning_rate` instead.\n",
      "  super(Adam, self).__init__(name, **kwargs)\n"
     ]
    },
    {
     "name": "stdout",
     "output_type": "stream",
     "text": [
      "Epoch 1/100\n",
      "1/1 [==============================] - 1s 1s/step - loss: 13.3030 - mae: 13.3030\n",
      "Epoch 2/100\n",
      "1/1 [==============================] - 0s 4ms/step - loss: 13.2643 - mae: 13.2643\n",
      "Epoch 3/100\n",
      "1/1 [==============================] - 0s 4ms/step - loss: 13.2256 - mae: 13.2256\n",
      "Epoch 4/100\n",
      "1/1 [==============================] - 0s 5ms/step - loss: 13.1872 - mae: 13.1872\n",
      "Epoch 5/100\n",
      "1/1 [==============================] - 0s 5ms/step - loss: 13.1507 - mae: 13.1507\n",
      "Epoch 6/100\n",
      "1/1 [==============================] - 0s 3ms/step - loss: 13.1142 - mae: 13.1142\n",
      "Epoch 7/100\n",
      "1/1 [==============================] - 0s 5ms/step - loss: 13.0778 - mae: 13.0778\n",
      "Epoch 8/100\n",
      "1/1 [==============================] - 0s 5ms/step - loss: 13.0413 - mae: 13.0413\n",
      "Epoch 9/100\n",
      "1/1 [==============================] - 0s 6ms/step - loss: 13.0048 - mae: 13.0048\n",
      "Epoch 10/100\n",
      "1/1 [==============================] - 0s 7ms/step - loss: 12.9683 - mae: 12.9683\n",
      "Epoch 11/100\n",
      "1/1 [==============================] - 0s 6ms/step - loss: 12.9320 - mae: 12.9320\n",
      "Epoch 12/100\n",
      "1/1 [==============================] - 0s 4ms/step - loss: 12.8958 - mae: 12.8958\n",
      "Epoch 13/100\n",
      "1/1 [==============================] - 0s 6ms/step - loss: 12.8596 - mae: 12.8596\n",
      "Epoch 14/100\n",
      "1/1 [==============================] - 0s 5ms/step - loss: 12.8235 - mae: 12.8235\n",
      "Epoch 15/100\n",
      "1/1 [==============================] - 0s 5ms/step - loss: 12.7874 - mae: 12.7874\n",
      "Epoch 16/100\n",
      "1/1 [==============================] - 0s 6ms/step - loss: 12.7514 - mae: 12.7514\n",
      "Epoch 17/100\n",
      "1/1 [==============================] - 0s 4ms/step - loss: 12.7154 - mae: 12.7154\n",
      "Epoch 18/100\n",
      "1/1 [==============================] - 0s 4ms/step - loss: 12.6793 - mae: 12.6793\n",
      "Epoch 19/100\n",
      "1/1 [==============================] - 0s 6ms/step - loss: 12.6433 - mae: 12.6433\n",
      "Epoch 20/100\n",
      "1/1 [==============================] - 0s 5ms/step - loss: 12.6073 - mae: 12.6073\n",
      "Epoch 21/100\n",
      "1/1 [==============================] - 0s 4ms/step - loss: 12.5716 - mae: 12.5716\n",
      "Epoch 22/100\n",
      "1/1 [==============================] - 0s 5ms/step - loss: 12.5359 - mae: 12.5359\n",
      "Epoch 23/100\n",
      "1/1 [==============================] - 0s 3ms/step - loss: 12.5002 - mae: 12.5002\n",
      "Epoch 24/100\n",
      "1/1 [==============================] - 0s 6ms/step - loss: 12.4648 - mae: 12.4648\n",
      "Epoch 25/100\n",
      "1/1 [==============================] - 0s 7ms/step - loss: 12.4294 - mae: 12.4294\n",
      "Epoch 26/100\n",
      "1/1 [==============================] - 0s 4ms/step - loss: 12.3939 - mae: 12.3939\n",
      "Epoch 27/100\n",
      "1/1 [==============================] - 0s 5ms/step - loss: 12.3584 - mae: 12.3584\n",
      "Epoch 28/100\n",
      "1/1 [==============================] - 0s 3ms/step - loss: 12.3230 - mae: 12.3230\n",
      "Epoch 29/100\n",
      "1/1 [==============================] - 0s 3ms/step - loss: 12.2877 - mae: 12.2877\n",
      "Epoch 30/100\n",
      "1/1 [==============================] - 0s 4ms/step - loss: 12.2525 - mae: 12.2525\n",
      "Epoch 31/100\n",
      "1/1 [==============================] - 0s 3ms/step - loss: 12.2173 - mae: 12.2173\n",
      "Epoch 32/100\n",
      "1/1 [==============================] - 0s 4ms/step - loss: 12.1824 - mae: 12.1824\n",
      "Epoch 33/100\n",
      "1/1 [==============================] - 0s 5ms/step - loss: 12.1492 - mae: 12.1492\n",
      "Epoch 34/100\n",
      "1/1 [==============================] - 0s 3ms/step - loss: 12.1160 - mae: 12.1160\n",
      "Epoch 35/100\n",
      "1/1 [==============================] - 0s 3ms/step - loss: 12.0825 - mae: 12.0825\n",
      "Epoch 36/100\n",
      "1/1 [==============================] - 0s 5ms/step - loss: 12.0484 - mae: 12.0484\n",
      "Epoch 37/100\n",
      "1/1 [==============================] - 0s 3ms/step - loss: 12.0138 - mae: 12.0138\n",
      "Epoch 38/100\n",
      "1/1 [==============================] - 0s 3ms/step - loss: 11.9790 - mae: 11.9790\n",
      "Epoch 39/100\n",
      "1/1 [==============================] - 0s 4ms/step - loss: 11.9445 - mae: 11.9445\n",
      "Epoch 40/100\n",
      "1/1 [==============================] - 0s 3ms/step - loss: 11.9099 - mae: 11.9099\n",
      "Epoch 41/100\n",
      "1/1 [==============================] - 0s 4ms/step - loss: 11.8751 - mae: 11.8751\n",
      "Epoch 42/100\n",
      "1/1 [==============================] - 0s 4ms/step - loss: 11.8399 - mae: 11.8399\n",
      "Epoch 43/100\n",
      "1/1 [==============================] - 0s 3ms/step - loss: 11.8046 - mae: 11.8046\n",
      "Epoch 44/100\n",
      "1/1 [==============================] - 0s 6ms/step - loss: 11.7693 - mae: 11.7693\n",
      "Epoch 45/100\n",
      "1/1 [==============================] - 0s 4ms/step - loss: 11.7342 - mae: 11.7342\n",
      "Epoch 46/100\n",
      "1/1 [==============================] - 0s 5ms/step - loss: 11.6988 - mae: 11.6988\n",
      "Epoch 47/100\n",
      "1/1 [==============================] - 0s 4ms/step - loss: 11.6631 - mae: 11.6631\n",
      "Epoch 48/100\n",
      "1/1 [==============================] - 0s 4ms/step - loss: 11.6270 - mae: 11.6270\n",
      "Epoch 49/100\n",
      "1/1 [==============================] - 0s 4ms/step - loss: 11.5907 - mae: 11.5907\n",
      "Epoch 50/100\n",
      "1/1 [==============================] - 0s 4ms/step - loss: 11.5541 - mae: 11.5541\n",
      "Epoch 51/100\n",
      "1/1 [==============================] - 0s 3ms/step - loss: 11.5171 - mae: 11.5171\n",
      "Epoch 52/100\n",
      "1/1 [==============================] - 0s 4ms/step - loss: 11.4797 - mae: 11.4797\n",
      "Epoch 53/100\n",
      "1/1 [==============================] - 0s 4ms/step - loss: 11.4417 - mae: 11.4417\n",
      "Epoch 54/100\n",
      "1/1 [==============================] - 0s 5ms/step - loss: 11.4034 - mae: 11.4034\n",
      "Epoch 55/100\n",
      "1/1 [==============================] - 0s 5ms/step - loss: 11.3647 - mae: 11.3647\n",
      "Epoch 56/100\n",
      "1/1 [==============================] - 0s 3ms/step - loss: 11.3254 - mae: 11.3254\n",
      "Epoch 57/100\n",
      "1/1 [==============================] - 0s 4ms/step - loss: 11.2855 - mae: 11.2855\n",
      "Epoch 58/100\n",
      "1/1 [==============================] - 0s 7ms/step - loss: 11.2452 - mae: 11.2452\n",
      "Epoch 59/100\n",
      "1/1 [==============================] - 0s 3ms/step - loss: 11.2044 - mae: 11.2044\n",
      "Epoch 60/100\n",
      "1/1 [==============================] - 0s 4ms/step - loss: 11.1634 - mae: 11.1634\n",
      "Epoch 61/100\n",
      "1/1 [==============================] - 0s 3ms/step - loss: 11.1224 - mae: 11.1224\n",
      "Epoch 62/100\n",
      "1/1 [==============================] - 0s 4ms/step - loss: 11.0819 - mae: 11.0819\n",
      "Epoch 63/100\n",
      "1/1 [==============================] - 0s 7ms/step - loss: 11.0416 - mae: 11.0416\n",
      "Epoch 64/100\n",
      "1/1 [==============================] - 0s 6ms/step - loss: 11.0009 - mae: 11.0009\n",
      "Epoch 65/100\n",
      "1/1 [==============================] - 0s 5ms/step - loss: 10.9597 - mae: 10.9597\n",
      "Epoch 66/100\n",
      "1/1 [==============================] - 0s 4ms/step - loss: 10.9183 - mae: 10.9183\n",
      "Epoch 67/100\n",
      "1/1 [==============================] - 0s 4ms/step - loss: 10.8764 - mae: 10.8764\n",
      "Epoch 68/100\n",
      "1/1 [==============================] - 0s 4ms/step - loss: 10.8342 - mae: 10.8342\n",
      "Epoch 69/100\n",
      "1/1 [==============================] - 0s 5ms/step - loss: 10.7916 - mae: 10.7916\n",
      "Epoch 70/100\n",
      "1/1 [==============================] - 0s 4ms/step - loss: 10.7535 - mae: 10.7535\n",
      "Epoch 71/100\n",
      "1/1 [==============================] - 0s 4ms/step - loss: 10.7212 - mae: 10.7212\n",
      "Epoch 72/100\n",
      "1/1 [==============================] - 0s 4ms/step - loss: 10.6886 - mae: 10.6886\n",
      "Epoch 73/100\n",
      "1/1 [==============================] - 0s 4ms/step - loss: 10.6559 - mae: 10.6559\n",
      "Epoch 74/100\n",
      "1/1 [==============================] - 0s 3ms/step - loss: 10.6230 - mae: 10.6230\n",
      "Epoch 75/100\n",
      "1/1 [==============================] - 0s 4ms/step - loss: 10.5902 - mae: 10.5902\n",
      "Epoch 76/100\n",
      "1/1 [==============================] - 0s 3ms/step - loss: 10.5573 - mae: 10.5573\n",
      "Epoch 77/100\n",
      "1/1 [==============================] - 0s 4ms/step - loss: 10.5240 - mae: 10.5240\n",
      "Epoch 78/100\n",
      "1/1 [==============================] - 0s 3ms/step - loss: 10.4904 - mae: 10.4904\n",
      "Epoch 79/100\n",
      "1/1 [==============================] - 0s 5ms/step - loss: 10.4566 - mae: 10.4566\n",
      "Epoch 80/100\n",
      "1/1 [==============================] - 0s 6ms/step - loss: 10.4224 - mae: 10.4224\n",
      "Epoch 81/100\n",
      "1/1 [==============================] - 0s 3ms/step - loss: 10.3879 - mae: 10.3879\n",
      "Epoch 82/100\n",
      "1/1 [==============================] - 0s 4ms/step - loss: 10.3532 - mae: 10.3532\n",
      "Epoch 83/100\n",
      "1/1 [==============================] - 0s 3ms/step - loss: 10.3181 - mae: 10.3181\n",
      "Epoch 84/100\n",
      "1/1 [==============================] - 0s 5ms/step - loss: 10.2829 - mae: 10.2829\n",
      "Epoch 85/100\n",
      "1/1 [==============================] - 0s 3ms/step - loss: 10.2477 - mae: 10.2477\n",
      "Epoch 86/100\n",
      "1/1 [==============================] - 0s 5ms/step - loss: 10.2127 - mae: 10.2127\n",
      "Epoch 87/100\n"
     ]
    },
    {
     "name": "stdout",
     "output_type": "stream",
     "text": [
      "1/1 [==============================] - 0s 4ms/step - loss: 10.1774 - mae: 10.1774\n",
      "Epoch 88/100\n",
      "1/1 [==============================] - 0s 3ms/step - loss: 10.1418 - mae: 10.1418\n",
      "Epoch 89/100\n",
      "1/1 [==============================] - 0s 5ms/step - loss: 10.1061 - mae: 10.1061\n",
      "Epoch 90/100\n",
      "1/1 [==============================] - 0s 4ms/step - loss: 10.0701 - mae: 10.0701\n",
      "Epoch 91/100\n",
      "1/1 [==============================] - 0s 6ms/step - loss: 10.0338 - mae: 10.0338\n",
      "Epoch 92/100\n",
      "1/1 [==============================] - 0s 5ms/step - loss: 9.9971 - mae: 9.9971\n",
      "Epoch 93/100\n",
      "1/1 [==============================] - 0s 5ms/step - loss: 9.9601 - mae: 9.9601\n",
      "Epoch 94/100\n",
      "1/1 [==============================] - 0s 4ms/step - loss: 9.9228 - mae: 9.9228\n",
      "Epoch 95/100\n",
      "1/1 [==============================] - 0s 6ms/step - loss: 9.8851 - mae: 9.8851\n",
      "Epoch 96/100\n",
      "1/1 [==============================] - 0s 4ms/step - loss: 9.8470 - mae: 9.8470\n",
      "Epoch 97/100\n",
      "1/1 [==============================] - 0s 5ms/step - loss: 9.8087 - mae: 9.8087\n",
      "Epoch 98/100\n",
      "1/1 [==============================] - 0s 5ms/step - loss: 9.7700 - mae: 9.7700\n",
      "Epoch 99/100\n",
      "1/1 [==============================] - 0s 5ms/step - loss: 9.7309 - mae: 9.7309\n",
      "Epoch 100/100\n",
      "1/1 [==============================] - 0s 4ms/step - loss: 9.6916 - mae: 9.6916\n"
     ]
    },
    {
     "data": {
      "text/plain": [
       "<keras.callbacks.History at 0x1cfe378c370>"
      ]
     },
     "execution_count": 13,
     "metadata": {},
     "output_type": "execute_result"
    }
   ],
   "source": [
    "#Creating a model\n",
    "tf.random.set_seed(42)\n",
    " #Create a model using Sequential API\n",
    "model = tf.keras.Sequential([\n",
    "    tf.keras.layers.Dense(100,activation = \"relu\"),\n",
    "    tf.keras.layers.Dense(100,activation = \"relu\"),\n",
    "    tf.keras.layers.Dense(100,activation = \"relu\"),\n",
    "    tf.keras.layers.Dense(1)\n",
    "])\n",
    "model.compile(loss = tf.keras.losses.mae, optimizer = tf.keras.optimizers.Adam(lr = 0.0001),metrics = ['mae'])\n",
    "model.fit(tf.expand_dims(X,axis = 1),y,epochs = 100) "
   ]
  },
  {
   "cell_type": "code",
   "execution_count": 14,
   "metadata": {
    "colab": {
     "base_uri": "https://localhost:8080/"
    },
    "id": "-bVx7VKOEaOg",
    "outputId": "4a8a857b-d680-407f-f8bc-b2a35d30eb31"
   },
   "outputs": [
    {
     "name": "stdout",
     "output_type": "stream",
     "text": [
      "1/1 [==============================] - 0s 174ms/step\n"
     ]
    },
    {
     "data": {
      "text/plain": [
       "array([[10.712195]], dtype=float32)"
      ]
     },
     "execution_count": 14,
     "metadata": {},
     "output_type": "execute_result"
    }
   ],
   "source": [
    "y_pred = model.predict([17.0])\n",
    "y_pred"
   ]
  },
  {
   "cell_type": "code",
   "execution_count": 15,
   "metadata": {
    "colab": {
     "base_uri": "https://localhost:8080/"
    },
    "id": "6mxbekBmWCMZ",
    "outputId": "abf9d81f-0663-4bb9-a55a-2d0e332b8cdd"
   },
   "outputs": [
    {
     "name": "stdout",
     "output_type": "stream",
     "text": [
      "Epoch 1/100\n",
      "1/1 [==============================] - 0s 350ms/step - loss: 12.1456 - mae: 12.1456\n",
      "Epoch 2/100\n",
      "1/1 [==============================] - 0s 4ms/step - loss: 11.5538 - mae: 11.5538\n",
      "Epoch 3/100\n",
      "1/1 [==============================] - 0s 3ms/step - loss: 10.9405 - mae: 10.9405\n",
      "Epoch 4/100\n",
      "1/1 [==============================] - 0s 4ms/step - loss: 10.3009 - mae: 10.3009\n",
      "Epoch 5/100\n",
      "1/1 [==============================] - 0s 5ms/step - loss: 9.6325 - mae: 9.6325\n",
      "Epoch 6/100\n",
      "1/1 [==============================] - 0s 4ms/step - loss: 8.9314 - mae: 8.9314\n",
      "Epoch 7/100\n",
      "1/1 [==============================] - 0s 5ms/step - loss: 8.1937 - mae: 8.1937\n",
      "Epoch 8/100\n",
      "1/1 [==============================] - 0s 4ms/step - loss: 7.3997 - mae: 7.3997\n",
      "Epoch 9/100\n",
      "1/1 [==============================] - 0s 5ms/step - loss: 6.5612 - mae: 6.5612\n",
      "Epoch 10/100\n",
      "1/1 [==============================] - 0s 4ms/step - loss: 5.6630 - mae: 5.6630\n",
      "Epoch 11/100\n",
      "1/1 [==============================] - 0s 3ms/step - loss: 4.6956 - mae: 4.6956\n",
      "Epoch 12/100\n",
      "1/1 [==============================] - 0s 5ms/step - loss: 4.2610 - mae: 4.2610\n",
      "Epoch 13/100\n",
      "1/1 [==============================] - 0s 3ms/step - loss: 4.2586 - mae: 4.2586\n",
      "Epoch 14/100\n",
      "1/1 [==============================] - 0s 5ms/step - loss: 4.1631 - mae: 4.1631\n",
      "Epoch 15/100\n",
      "1/1 [==============================] - 0s 5ms/step - loss: 4.1946 - mae: 4.1946\n",
      "Epoch 16/100\n",
      "1/1 [==============================] - 0s 3ms/step - loss: 4.0891 - mae: 4.0891\n",
      "Epoch 17/100\n",
      "1/1 [==============================] - 0s 3ms/step - loss: 4.1034 - mae: 4.1034\n",
      "Epoch 18/100\n",
      "1/1 [==============================] - 0s 5ms/step - loss: 4.0234 - mae: 4.0234\n",
      "Epoch 19/100\n",
      "1/1 [==============================] - 0s 4ms/step - loss: 4.0029 - mae: 4.0029\n",
      "Epoch 20/100\n",
      "1/1 [==============================] - 0s 2ms/step - loss: 3.9563 - mae: 3.9563\n",
      "Epoch 21/100\n",
      "1/1 [==============================] - 0s 4ms/step - loss: 3.9147 - mae: 3.9147\n",
      "Epoch 22/100\n",
      "1/1 [==============================] - 0s 6ms/step - loss: 3.9407 - mae: 3.9407\n",
      "Epoch 23/100\n",
      "1/1 [==============================] - 0s 4ms/step - loss: 3.8891 - mae: 3.8891\n",
      "Epoch 24/100\n",
      "1/1 [==============================] - 0s 5ms/step - loss: 3.9518 - mae: 3.9518\n",
      "Epoch 25/100\n",
      "1/1 [==============================] - 0s 5ms/step - loss: 3.8861 - mae: 3.8861\n",
      "Epoch 26/100\n",
      "1/1 [==============================] - 0s 3ms/step - loss: 3.9452 - mae: 3.9452\n",
      "Epoch 27/100\n",
      "1/1 [==============================] - 0s 4ms/step - loss: 3.8940 - mae: 3.8940\n",
      "Epoch 28/100\n",
      "1/1 [==============================] - 0s 4ms/step - loss: 3.9197 - mae: 3.9197\n",
      "Epoch 29/100\n",
      "1/1 [==============================] - 0s 4ms/step - loss: 3.9021 - mae: 3.9021\n",
      "Epoch 30/100\n",
      "1/1 [==============================] - 0s 5ms/step - loss: 3.8941 - mae: 3.8941\n",
      "Epoch 31/100\n",
      "1/1 [==============================] - 0s 5ms/step - loss: 3.9102 - mae: 3.9102\n",
      "Epoch 32/100\n",
      "1/1 [==============================] - 0s 5ms/step - loss: 3.8686 - mae: 3.8686\n",
      "Epoch 33/100\n",
      "1/1 [==============================] - 0s 4ms/step - loss: 3.9247 - mae: 3.9247\n",
      "Epoch 34/100\n",
      "1/1 [==============================] - 0s 3ms/step - loss: 3.8562 - mae: 3.8562\n",
      "Epoch 35/100\n",
      "1/1 [==============================] - 0s 3ms/step - loss: 3.9239 - mae: 3.9239\n",
      "Epoch 36/100\n",
      "1/1 [==============================] - 0s 3ms/step - loss: 3.8643 - mae: 3.8643\n",
      "Epoch 37/100\n",
      "1/1 [==============================] - 0s 5ms/step - loss: 3.8982 - mae: 3.8982\n",
      "Epoch 38/100\n",
      "1/1 [==============================] - 0s 5ms/step - loss: 3.8725 - mae: 3.8725\n",
      "Epoch 39/100\n",
      "1/1 [==============================] - 0s 4ms/step - loss: 3.8723 - mae: 3.8723\n",
      "Epoch 40/100\n",
      "1/1 [==============================] - 0s 3ms/step - loss: 3.8809 - mae: 3.8809\n",
      "Epoch 41/100\n",
      "1/1 [==============================] - 0s 4ms/step - loss: 3.8492 - mae: 3.8492\n",
      "Epoch 42/100\n",
      "1/1 [==============================] - 0s 3ms/step - loss: 3.8956 - mae: 3.8956\n",
      "Epoch 43/100\n",
      "1/1 [==============================] - 0s 4ms/step - loss: 3.8274 - mae: 3.8274\n",
      "Epoch 44/100\n",
      "1/1 [==============================] - 0s 6ms/step - loss: 3.9013 - mae: 3.9013\n",
      "Epoch 45/100\n",
      "1/1 [==============================] - 0s 3ms/step - loss: 3.8357 - mae: 3.8357\n",
      "Epoch 46/100\n",
      "1/1 [==============================] - 0s 4ms/step - loss: 3.8753 - mae: 3.8753\n",
      "Epoch 47/100\n",
      "1/1 [==============================] - 0s 4ms/step - loss: 3.8442 - mae: 3.8442\n",
      "Epoch 48/100\n",
      "1/1 [==============================] - 0s 4ms/step - loss: 3.8492 - mae: 3.8492\n",
      "Epoch 49/100\n",
      "1/1 [==============================] - 0s 5ms/step - loss: 3.8527 - mae: 3.8527\n",
      "Epoch 50/100\n",
      "1/1 [==============================] - 0s 4ms/step - loss: 3.8283 - mae: 3.8283\n",
      "Epoch 51/100\n",
      "1/1 [==============================] - 0s 6ms/step - loss: 3.8675 - mae: 3.8675\n",
      "Epoch 52/100\n",
      "1/1 [==============================] - 0s 5ms/step - loss: 3.8019 - mae: 3.8019\n",
      "Epoch 53/100\n",
      "1/1 [==============================] - 0s 4ms/step - loss: 3.8763 - mae: 3.8763\n",
      "Epoch 54/100\n",
      "1/1 [==============================] - 0s 4ms/step - loss: 3.8082 - mae: 3.8082\n",
      "Epoch 55/100\n",
      "1/1 [==============================] - 0s 4ms/step - loss: 3.8512 - mae: 3.8512\n",
      "Epoch 56/100\n",
      "1/1 [==============================] - 0s 4ms/step - loss: 3.8169 - mae: 3.8169\n",
      "Epoch 57/100\n",
      "1/1 [==============================] - 0s 4ms/step - loss: 3.8248 - mae: 3.8248\n",
      "Epoch 58/100\n",
      "1/1 [==============================] - 0s 4ms/step - loss: 3.8273 - mae: 3.8273\n",
      "Epoch 59/100\n",
      "1/1 [==============================] - 0s 5ms/step - loss: 3.8037 - mae: 3.8037\n",
      "Epoch 60/100\n",
      "1/1 [==============================] - 0s 4ms/step - loss: 3.8406 - mae: 3.8406\n",
      "Epoch 61/100\n",
      "1/1 [==============================] - 0s 5ms/step - loss: 3.7769 - mae: 3.7769\n",
      "Epoch 62/100\n",
      "1/1 [==============================] - 0s 5ms/step - loss: 3.8496 - mae: 3.8496\n",
      "Epoch 63/100\n",
      "1/1 [==============================] - 0s 2ms/step - loss: 3.7818 - mae: 3.7818\n",
      "Epoch 64/100\n",
      "1/1 [==============================] - 0s 2ms/step - loss: 3.8258 - mae: 3.8258\n",
      "Epoch 65/100\n",
      "1/1 [==============================] - 0s 3ms/step - loss: 3.7907 - mae: 3.7907\n",
      "Epoch 66/100\n",
      "1/1 [==============================] - 0s 5ms/step - loss: 3.7991 - mae: 3.7991\n",
      "Epoch 67/100\n",
      "1/1 [==============================] - 0s 3ms/step - loss: 3.8035 - mae: 3.8035\n",
      "Epoch 68/100\n",
      "1/1 [==============================] - 0s 3ms/step - loss: 3.7776 - mae: 3.7776\n",
      "Epoch 69/100\n",
      "1/1 [==============================] - 0s 4ms/step - loss: 3.8148 - mae: 3.8148\n",
      "Epoch 70/100\n",
      "1/1 [==============================] - 0s 4ms/step - loss: 3.7505 - mae: 3.7505\n",
      "Epoch 71/100\n",
      "1/1 [==============================] - 0s 4ms/step - loss: 3.8240 - mae: 3.8240\n",
      "Epoch 72/100\n",
      "1/1 [==============================] - 0s 4ms/step - loss: 3.7565 - mae: 3.7565\n",
      "Epoch 73/100\n",
      "1/1 [==============================] - 0s 3ms/step - loss: 3.7991 - mae: 3.7991\n",
      "Epoch 74/100\n",
      "1/1 [==============================] - 0s 3ms/step - loss: 3.7655 - mae: 3.7655\n",
      "Epoch 75/100\n",
      "1/1 [==============================] - 0s 5ms/step - loss: 3.7726 - mae: 3.7726\n",
      "Epoch 76/100\n",
      "1/1 [==============================] - 0s 3ms/step - loss: 3.7807 - mae: 3.7807\n",
      "Epoch 77/100\n",
      "1/1 [==============================] - 0s 3ms/step - loss: 3.7503 - mae: 3.7503\n",
      "Epoch 78/100\n",
      "1/1 [==============================] - 0s 3ms/step - loss: 3.7900 - mae: 3.7900\n",
      "Epoch 79/100\n",
      "1/1 [==============================] - 0s 5ms/step - loss: 3.7231 - mae: 3.7231\n",
      "Epoch 80/100\n",
      "1/1 [==============================] - 0s 4ms/step - loss: 3.7983 - mae: 3.7983\n",
      "Epoch 81/100\n",
      "1/1 [==============================] - 0s 3ms/step - loss: 3.7322 - mae: 3.7322\n",
      "Epoch 82/100\n",
      "1/1 [==============================] - 0s 5ms/step - loss: 3.7711 - mae: 3.7711\n",
      "Epoch 83/100\n",
      "1/1 [==============================] - 0s 3ms/step - loss: 3.7414 - mae: 3.7414\n",
      "Epoch 84/100\n",
      "1/1 [==============================] - 0s 4ms/step - loss: 3.7462 - mae: 3.7462\n",
      "Epoch 85/100\n",
      "1/1 [==============================] - 0s 5ms/step - loss: 3.7568 - mae: 3.7568\n",
      "Epoch 86/100\n",
      "1/1 [==============================] - 0s 3ms/step - loss: 3.7216 - mae: 3.7216\n",
      "Epoch 87/100\n",
      "1/1 [==============================] - 0s 3ms/step - loss: 3.7663 - mae: 3.7663\n",
      "Epoch 88/100\n",
      "1/1 [==============================] - 0s 5ms/step - loss: 3.6996 - mae: 3.6996\n",
      "Epoch 89/100\n"
     ]
    },
    {
     "name": "stdout",
     "output_type": "stream",
     "text": [
      "1/1 [==============================] - 0s 4ms/step - loss: 3.7692 - mae: 3.7692\n",
      "Epoch 90/100\n",
      "1/1 [==============================] - 0s 6ms/step - loss: 3.7089 - mae: 3.7089\n",
      "Epoch 91/100\n",
      "1/1 [==============================] - 0s 5ms/step - loss: 3.7418 - mae: 3.7418\n",
      "Epoch 92/100\n",
      "1/1 [==============================] - 0s 5ms/step - loss: 3.7184 - mae: 3.7184\n",
      "Epoch 93/100\n",
      "1/1 [==============================] - 0s 5ms/step - loss: 3.7183 - mae: 3.7183\n",
      "Epoch 94/100\n",
      "1/1 [==============================] - 0s 4ms/step - loss: 3.7339 - mae: 3.7339\n",
      "Epoch 95/100\n",
      "1/1 [==============================] - 0s 5ms/step - loss: 3.6916 - mae: 3.6916\n",
      "Epoch 96/100\n",
      "1/1 [==============================] - 0s 5ms/step - loss: 3.7436 - mae: 3.7436\n",
      "Epoch 97/100\n",
      "1/1 [==============================] - 0s 5ms/step - loss: 3.6771 - mae: 3.6771\n",
      "Epoch 98/100\n",
      "1/1 [==============================] - 0s 4ms/step - loss: 3.7389 - mae: 3.7389\n",
      "Epoch 99/100\n",
      "1/1 [==============================] - 0s 5ms/step - loss: 3.6866 - mae: 3.6866\n",
      "Epoch 100/100\n",
      "1/1 [==============================] - 0s 6ms/step - loss: 3.7111 - mae: 3.7111\n"
     ]
    },
    {
     "data": {
      "text/plain": [
       "<keras.callbacks.History at 0x1cfe4b12160>"
      ]
     },
     "execution_count": 15,
     "metadata": {},
     "output_type": "execute_result"
    }
   ],
   "source": [
    "#Create a model using Sequential API\n",
    "model = tf.keras.Sequential([\n",
    "    tf.keras.layers.Dense(50,activation = \"relu\"),\n",
    "    tf.keras.layers.Dense(1)\n",
    "])\n",
    "model.compile(loss = tf.keras.losses.mae, optimizer = tf.keras.optimizers.SGD(),metrics = ['mae'])\n",
    "model.fit(tf.expand_dims(X,axis = 1),y,epochs = 100) "
   ]
  },
  {
   "cell_type": "code",
   "execution_count": 16,
   "metadata": {
    "colab": {
     "base_uri": "https://localhost:8080/"
    },
    "id": "pGCwUq6LXux6",
    "outputId": "f1e5b012-d5ca-49d0-abe8-0a5aafe835c4"
   },
   "outputs": [
    {
     "name": "stdout",
     "output_type": "stream",
     "text": [
      "1/1 [==============================] - 0s 90ms/step\n"
     ]
    },
    {
     "data": {
      "text/plain": [
       "array([[32.45491]], dtype=float32)"
      ]
     },
     "execution_count": 16,
     "metadata": {},
     "output_type": "execute_result"
    }
   ],
   "source": [
    "model.predict([17.0])"
   ]
  },
  {
   "cell_type": "code",
   "execution_count": 17,
   "metadata": {
    "colab": {
     "base_uri": "https://localhost:8080/"
    },
    "id": "gEG-g-ipXxTf",
    "outputId": "ffcde7de-7567-40bb-d856-3f6a845a8ab7"
   },
   "outputs": [
    {
     "name": "stdout",
     "output_type": "stream",
     "text": [
      "Epoch 1/100\n",
      "1/1 [==============================] - 1s 569ms/step - loss: 12.5419 - mae: 12.5419\n",
      "Epoch 2/100\n",
      "1/1 [==============================] - 0s 4ms/step - loss: 11.8482 - mae: 11.8482\n",
      "Epoch 3/100\n",
      "1/1 [==============================] - 0s 2ms/step - loss: 11.1529 - mae: 11.1529\n",
      "Epoch 4/100\n",
      "1/1 [==============================] - 0s 4ms/step - loss: 10.4547 - mae: 10.4547\n",
      "Epoch 5/100\n",
      "1/1 [==============================] - 0s 4ms/step - loss: 9.7511 - mae: 9.7511\n",
      "Epoch 6/100\n",
      "1/1 [==============================] - 0s 6ms/step - loss: 9.0391 - mae: 9.0391\n",
      "Epoch 7/100\n",
      "1/1 [==============================] - 0s 4ms/step - loss: 8.3156 - mae: 8.3156\n",
      "Epoch 8/100\n",
      "1/1 [==============================] - 0s 4ms/step - loss: 7.5775 - mae: 7.5775\n",
      "Epoch 9/100\n",
      "1/1 [==============================] - 0s 3ms/step - loss: 6.9147 - mae: 6.9147\n",
      "Epoch 10/100\n",
      "1/1 [==============================] - 0s 4ms/step - loss: 6.9004 - mae: 6.9004\n",
      "Epoch 11/100\n",
      "1/1 [==============================] - 0s 3ms/step - loss: 7.1699 - mae: 7.1699\n",
      "Epoch 12/100\n",
      "1/1 [==============================] - 0s 3ms/step - loss: 7.3235 - mae: 7.3235\n",
      "Epoch 13/100\n",
      "1/1 [==============================] - 0s 3ms/step - loss: 7.3803 - mae: 7.3803\n",
      "Epoch 14/100\n",
      "1/1 [==============================] - 0s 4ms/step - loss: 7.3572 - mae: 7.3572\n",
      "Epoch 15/100\n",
      "1/1 [==============================] - 0s 3ms/step - loss: 7.2281 - mae: 7.2281\n",
      "Epoch 16/100\n",
      "1/1 [==============================] - 0s 6ms/step - loss: 7.0552 - mae: 7.0552\n",
      "Epoch 17/100\n",
      "1/1 [==============================] - 0s 3ms/step - loss: 6.8469 - mae: 6.8469\n",
      "Epoch 18/100\n",
      "1/1 [==============================] - 0s 4ms/step - loss: 6.6106 - mae: 6.6106\n",
      "Epoch 19/100\n",
      "1/1 [==============================] - 0s 5ms/step - loss: 6.3524 - mae: 6.3524\n",
      "Epoch 20/100\n",
      "1/1 [==============================] - 0s 3ms/step - loss: 6.2389 - mae: 6.2389\n",
      "Epoch 21/100\n",
      "1/1 [==============================] - 0s 4ms/step - loss: 6.1921 - mae: 6.1921\n",
      "Epoch 22/100\n",
      "1/1 [==============================] - 0s 4ms/step - loss: 6.2628 - mae: 6.2628\n",
      "Epoch 23/100\n",
      "1/1 [==============================] - 0s 3ms/step - loss: 6.3081 - mae: 6.3081\n",
      "Epoch 24/100\n",
      "1/1 [==============================] - 0s 3ms/step - loss: 6.2464 - mae: 6.2464\n",
      "Epoch 25/100\n",
      "1/1 [==============================] - 0s 4ms/step - loss: 6.0916 - mae: 6.0916\n",
      "Epoch 26/100\n",
      "1/1 [==============================] - 0s 4ms/step - loss: 5.8537 - mae: 5.8537\n",
      "Epoch 27/100\n",
      "1/1 [==============================] - 0s 4ms/step - loss: 5.7249 - mae: 5.7249\n",
      "Epoch 28/100\n",
      "1/1 [==============================] - 0s 3ms/step - loss: 5.6191 - mae: 5.6191\n",
      "Epoch 29/100\n",
      "1/1 [==============================] - 0s 3ms/step - loss: 5.5762 - mae: 5.5762\n",
      "Epoch 30/100\n",
      "1/1 [==============================] - 0s 5ms/step - loss: 5.5763 - mae: 5.5763\n",
      "Epoch 31/100\n",
      "1/1 [==============================] - 0s 6ms/step - loss: 5.5271 - mae: 5.5271\n",
      "Epoch 32/100\n",
      "1/1 [==============================] - 0s 6ms/step - loss: 5.4323 - mae: 5.4323\n",
      "Epoch 33/100\n",
      "1/1 [==============================] - 0s 6ms/step - loss: 5.2957 - mae: 5.2957\n",
      "Epoch 34/100\n",
      "1/1 [==============================] - 0s 4ms/step - loss: 5.1207 - mae: 5.1207\n",
      "Epoch 35/100\n",
      "1/1 [==============================] - 0s 5ms/step - loss: 4.9317 - mae: 4.9317\n",
      "Epoch 36/100\n",
      "1/1 [==============================] - 0s 3ms/step - loss: 4.8350 - mae: 4.8350\n",
      "Epoch 37/100\n",
      "1/1 [==============================] - 0s 6ms/step - loss: 4.7305 - mae: 4.7305\n",
      "Epoch 38/100\n",
      "1/1 [==============================] - 0s 4ms/step - loss: 4.6183 - mae: 4.6183\n",
      "Epoch 39/100\n",
      "1/1 [==============================] - 0s 5ms/step - loss: 4.5152 - mae: 4.5152\n",
      "Epoch 40/100\n",
      "1/1 [==============================] - 0s 4ms/step - loss: 4.3605 - mae: 4.3605\n",
      "Epoch 41/100\n",
      "1/1 [==============================] - 0s 6ms/step - loss: 4.2152 - mae: 4.2152\n",
      "Epoch 42/100\n",
      "1/1 [==============================] - 0s 6ms/step - loss: 4.0621 - mae: 4.0621\n",
      "Epoch 43/100\n",
      "1/1 [==============================] - 0s 4ms/step - loss: 3.9008 - mae: 3.9008\n",
      "Epoch 44/100\n",
      "1/1 [==============================] - 0s 5ms/step - loss: 3.7310 - mae: 3.7310\n",
      "Epoch 45/100\n",
      "1/1 [==============================] - 0s 5ms/step - loss: 3.5526 - mae: 3.5526\n",
      "Epoch 46/100\n",
      "1/1 [==============================] - 0s 6ms/step - loss: 3.4089 - mae: 3.4089\n",
      "Epoch 47/100\n",
      "1/1 [==============================] - 0s 4ms/step - loss: 3.2255 - mae: 3.2255\n",
      "Epoch 48/100\n",
      "1/1 [==============================] - 0s 5ms/step - loss: 2.9968 - mae: 2.9968\n",
      "Epoch 49/100\n",
      "1/1 [==============================] - 0s 4ms/step - loss: 2.8021 - mae: 2.8021\n",
      "Epoch 50/100\n",
      "1/1 [==============================] - 0s 3ms/step - loss: 2.5959 - mae: 2.5959\n",
      "Epoch 51/100\n",
      "1/1 [==============================] - 0s 4ms/step - loss: 2.3780 - mae: 2.3780\n",
      "Epoch 52/100\n",
      "1/1 [==============================] - 0s 5ms/step - loss: 2.1483 - mae: 2.1483\n",
      "Epoch 53/100\n",
      "1/1 [==============================] - 0s 5ms/step - loss: 1.9121 - mae: 1.9121\n",
      "Epoch 54/100\n",
      "1/1 [==============================] - 0s 4ms/step - loss: 1.6413 - mae: 1.6413\n",
      "Epoch 55/100\n",
      "1/1 [==============================] - 0s 5ms/step - loss: 1.5063 - mae: 1.5063\n",
      "Epoch 56/100\n",
      "1/1 [==============================] - 0s 3ms/step - loss: 1.3077 - mae: 1.3077\n",
      "Epoch 57/100\n",
      "1/1 [==============================] - 0s 5ms/step - loss: 0.8984 - mae: 0.8984\n",
      "Epoch 58/100\n",
      "1/1 [==============================] - 0s 5ms/step - loss: 0.6735 - mae: 0.6735\n",
      "Epoch 59/100\n",
      "1/1 [==============================] - 0s 3ms/step - loss: 0.4491 - mae: 0.4491\n",
      "Epoch 60/100\n",
      "1/1 [==============================] - 0s 6ms/step - loss: 0.1118 - mae: 0.1118\n",
      "Epoch 61/100\n",
      "1/1 [==============================] - 0s 4ms/step - loss: 0.6302 - mae: 0.6302\n",
      "Epoch 62/100\n",
      "1/1 [==============================] - 0s 4ms/step - loss: 0.9813 - mae: 0.9813\n",
      "Epoch 63/100\n",
      "1/1 [==============================] - 0s 4ms/step - loss: 1.0660 - mae: 1.0660\n",
      "Epoch 64/100\n",
      "1/1 [==============================] - 0s 4ms/step - loss: 0.9174 - mae: 0.9174\n",
      "Epoch 65/100\n",
      "1/1 [==============================] - 0s 4ms/step - loss: 0.7160 - mae: 0.7160\n",
      "Epoch 66/100\n",
      "1/1 [==============================] - 0s 4ms/step - loss: 0.9167 - mae: 0.9167\n",
      "Epoch 67/100\n",
      "1/1 [==============================] - 0s 4ms/step - loss: 0.8696 - mae: 0.8696\n",
      "Epoch 68/100\n",
      "1/1 [==============================] - 0s 4ms/step - loss: 0.5910 - mae: 0.5910\n",
      "Epoch 69/100\n",
      "1/1 [==============================] - 0s 4ms/step - loss: 0.5655 - mae: 0.5655\n",
      "Epoch 70/100\n",
      "1/1 [==============================] - 0s 6ms/step - loss: 0.5139 - mae: 0.5139\n",
      "Epoch 71/100\n",
      "1/1 [==============================] - 0s 4ms/step - loss: 0.2766 - mae: 0.2766\n",
      "Epoch 72/100\n",
      "1/1 [==============================] - 0s 5ms/step - loss: 0.1739 - mae: 0.1739\n",
      "Epoch 73/100\n",
      "1/1 [==============================] - 0s 2ms/step - loss: 0.2283 - mae: 0.2283\n",
      "Epoch 74/100\n",
      "1/1 [==============================] - 0s 4ms/step - loss: 0.3036 - mae: 0.3036\n",
      "Epoch 75/100\n",
      "1/1 [==============================] - 0s 3ms/step - loss: 0.3437 - mae: 0.3437\n",
      "Epoch 76/100\n",
      "1/1 [==============================] - 0s 4ms/step - loss: 0.4089 - mae: 0.4089\n",
      "Epoch 77/100\n",
      "1/1 [==============================] - 0s 4ms/step - loss: 0.4106 - mae: 0.4106\n",
      "Epoch 78/100\n",
      "1/1 [==============================] - 0s 4ms/step - loss: 0.3071 - mae: 0.3071\n",
      "Epoch 79/100\n",
      "1/1 [==============================] - 0s 4ms/step - loss: 0.2806 - mae: 0.2806\n",
      "Epoch 80/100\n",
      "1/1 [==============================] - 0s 3ms/step - loss: 0.1904 - mae: 0.1904\n",
      "Epoch 81/100\n",
      "1/1 [==============================] - 0s 3ms/step - loss: 0.0599 - mae: 0.0599\n",
      "Epoch 82/100\n",
      "1/1 [==============================] - 0s 1ms/step - loss: 0.2450 - mae: 0.2450\n",
      "Epoch 83/100\n",
      "1/1 [==============================] - 0s 3ms/step - loss: 0.2755 - mae: 0.2755\n",
      "Epoch 84/100\n",
      "1/1 [==============================] - 0s 2ms/step - loss: 0.2595 - mae: 0.2595\n",
      "Epoch 85/100\n",
      "1/1 [==============================] - 0s 2ms/step - loss: 0.2854 - mae: 0.2854\n",
      "Epoch 86/100\n",
      "1/1 [==============================] - 0s 4ms/step - loss: 0.3075 - mae: 0.3075\n",
      "Epoch 87/100\n",
      "1/1 [==============================] - 0s 2ms/step - loss: 0.2656 - mae: 0.2656\n",
      "Epoch 88/100\n",
      "1/1 [==============================] - 0s 3ms/step - loss: 0.1947 - mae: 0.1947\n",
      "Epoch 89/100\n"
     ]
    },
    {
     "name": "stdout",
     "output_type": "stream",
     "text": [
      "1/1 [==============================] - 0s 2ms/step - loss: 0.1061 - mae: 0.1061\n",
      "Epoch 90/100\n",
      "1/1 [==============================] - 0s 2ms/step - loss: 0.2569 - mae: 0.2569\n",
      "Epoch 91/100\n",
      "1/1 [==============================] - 0s 3ms/step - loss: 0.2567 - mae: 0.2567\n",
      "Epoch 92/100\n",
      "1/1 [==============================] - 0s 2ms/step - loss: 0.2212 - mae: 0.2212\n",
      "Epoch 93/100\n",
      "1/1 [==============================] - 0s 3ms/step - loss: 0.2880 - mae: 0.2880\n",
      "Epoch 94/100\n",
      "1/1 [==============================] - 0s 4ms/step - loss: 0.1996 - mae: 0.1996\n",
      "Epoch 95/100\n",
      "1/1 [==============================] - 0s 4ms/step - loss: 0.2712 - mae: 0.2712\n",
      "Epoch 96/100\n",
      "1/1 [==============================] - 0s 3ms/step - loss: 0.2324 - mae: 0.2324\n",
      "Epoch 97/100\n",
      "1/1 [==============================] - 0s 2ms/step - loss: 0.0982 - mae: 0.0982\n",
      "Epoch 98/100\n",
      "1/1 [==============================] - 0s 5ms/step - loss: 0.0979 - mae: 0.0979\n",
      "Epoch 99/100\n",
      "1/1 [==============================] - 0s 2ms/step - loss: 0.2180 - mae: 0.2180\n",
      "Epoch 100/100\n",
      "1/1 [==============================] - 0s 2ms/step - loss: 0.2212 - mae: 0.2212\n"
     ]
    },
    {
     "data": {
      "text/plain": [
       "<keras.callbacks.History at 0x1cfe5c2d790>"
      ]
     },
     "execution_count": 17,
     "metadata": {},
     "output_type": "execute_result"
    }
   ],
   "source": [
    "model = tf.keras.Sequential([\n",
    "    tf.keras.layers.Dense(50,activation = None),\n",
    "    tf.keras.layers.Dense(1)\n",
    "])\n",
    "model.compile(loss = tf.keras.losses.mae,optimizer = tf.keras.optimizers.Adam(lr = 0.01),metrics = 'mae')\n",
    "model.fit(tf.expand_dims(X,axis = 1),y,epochs = 100)"
   ]
  },
  {
   "cell_type": "code",
   "execution_count": 18,
   "metadata": {
    "colab": {
     "base_uri": "https://localhost:8080/"
    },
    "id": "jXo6sry-ZUVz",
    "outputId": "3b38f025-6068-4cc9-ef54-3a15421d29f9"
   },
   "outputs": [
    {
     "name": "stdout",
     "output_type": "stream",
     "text": [
      "1/1 [==============================] - 0s 84ms/step\n"
     ]
    },
    {
     "data": {
      "text/plain": [
       "array([[34.76483]], dtype=float32)"
      ]
     },
     "execution_count": 18,
     "metadata": {},
     "output_type": "execute_result"
    }
   ],
   "source": [
    "model.predict([25.0])"
   ]
  },
  {
   "cell_type": "code",
   "execution_count": 19,
   "metadata": {
    "id": "5mDYyDsQbNQ9"
   },
   "outputs": [],
   "source": [
    " X = tf.range(-100,100,4)"
   ]
  },
  {
   "cell_type": "code",
   "execution_count": 20,
   "metadata": {
    "colab": {
     "base_uri": "https://localhost:8080/"
    },
    "id": "M4wkOaURfUtc",
    "outputId": "b7565543-0ba1-4803-cf30-b226f29a39b2"
   },
   "outputs": [
    {
     "data": {
      "text/plain": [
       "<tf.Tensor: shape=(50,), dtype=int32, numpy=\n",
       "array([-100,  -96,  -92,  -88,  -84,  -80,  -76,  -72,  -68,  -64,  -60,\n",
       "        -56,  -52,  -48,  -44,  -40,  -36,  -32,  -28,  -24,  -20,  -16,\n",
       "        -12,   -8,   -4,    0,    4,    8,   12,   16,   20,   24,   28,\n",
       "         32,   36,   40,   44,   48,   52,   56,   60,   64,   68,   72,\n",
       "         76,   80,   84,   88,   92,   96])>"
      ]
     },
     "execution_count": 20,
     "metadata": {},
     "output_type": "execute_result"
    }
   ],
   "source": [
    "X"
   ]
  },
  {
   "cell_type": "code",
   "execution_count": 21,
   "metadata": {
    "colab": {
     "base_uri": "https://localhost:8080/"
    },
    "id": "1aRuhWcxfWAT",
    "outputId": "af53ea62-4b4e-490b-826b-c36b6f002d03"
   },
   "outputs": [
    {
     "data": {
      "text/plain": [
       "<tf.Tensor: shape=(50,), dtype=int32, numpy=\n",
       "array([-90, -86, -82, -78, -74, -70, -66, -62, -58, -54, -50, -46, -42,\n",
       "       -38, -34, -30, -26, -22, -18, -14, -10,  -6,  -2,   2,   6,  10,\n",
       "        14,  18,  22,  26,  30,  34,  38,  42,  46,  50,  54,  58,  62,\n",
       "        66,  70,  74,  78,  82,  86,  90,  94,  98, 102, 106])>"
      ]
     },
     "execution_count": 21,
     "metadata": {},
     "output_type": "execute_result"
    }
   ],
   "source": [
    "y = X+10\n",
    "y"
   ]
  },
  {
   "cell_type": "code",
   "execution_count": 22,
   "metadata": {
    "colab": {
     "base_uri": "https://localhost:8080/",
     "height": 282
    },
    "id": "B1lk-kUvfmlc",
    "outputId": "6d29ec61-e493-4dc4-818a-263946cebab8"
   },
   "outputs": [
    {
     "data": {
      "text/plain": [
       "<matplotlib.collections.PathCollection at 0x1cfe5e4c2b0>"
      ]
     },
     "execution_count": 22,
     "metadata": {},
     "output_type": "execute_result"
    },
    {
     "data": {
      "image/png": "[encoded data removed]",
      "text/plain": [
       "<Figure size 432x288 with 1 Axes>"
      ]
     },
     "metadata": {
      "needs_background": "light"
     },
     "output_type": "display_data"
    }
   ],
   "source": [
    "import matplotlib.pyplot as plt\n",
    "plt.scatter(X,y)"
   ]
  },
  {
   "cell_type": "code",
   "execution_count": 23,
   "metadata": {
    "colab": {
     "base_uri": "https://localhost:8080/"
    },
    "id": "sRRf2xAxfYpX",
    "outputId": "841b597a-3776-4145-fe72-3531ef32ef83"
   },
   "outputs": [
    {
     "name": "stdout",
     "output_type": "stream",
     "text": [
      "Epoch 1/100\n",
      "2/2 [==============================] - 0s 5ms/step - loss: 3.1527 - mae: 3.1527\n",
      "Epoch 2/100\n",
      "2/2 [==============================] - 0s 5ms/step - loss: 4.8806 - mae: 4.8806\n",
      "Epoch 3/100\n",
      "2/2 [==============================] - 0s 3ms/step - loss: 11.1635 - mae: 11.1635\n",
      "Epoch 4/100\n",
      "2/2 [==============================] - 0s 4ms/step - loss: 11.4813 - mae: 11.4813\n",
      "Epoch 5/100\n",
      "2/2 [==============================] - 0s 3ms/step - loss: 3.9133 - mae: 3.9133\n",
      "Epoch 6/100\n",
      "2/2 [==============================] - 0s 3ms/step - loss: 15.6263 - mae: 15.6263\n",
      "Epoch 7/100\n",
      "2/2 [==============================] - 0s 3ms/step - loss: 11.4477 - mae: 11.4477\n",
      "Epoch 8/100\n",
      "2/2 [==============================] - 0s 3ms/step - loss: 3.8405 - mae: 3.8405\n",
      "Epoch 9/100\n",
      "2/2 [==============================] - 0s 3ms/step - loss: 14.0597 - mae: 14.0597\n",
      "Epoch 10/100\n",
      "2/2 [==============================] - 0s 3ms/step - loss: 12.6165 - mae: 12.6165\n",
      "Epoch 11/100\n",
      "2/2 [==============================] - 0s 4ms/step - loss: 3.9907 - mae: 3.9907\n",
      "Epoch 12/100\n",
      "2/2 [==============================] - 0s 2ms/step - loss: 7.4244 - mae: 7.4244\n",
      "Epoch 13/100\n",
      "2/2 [==============================] - 0s 5ms/step - loss: 5.8768 - mae: 5.8768\n",
      "Epoch 14/100\n",
      "2/2 [==============================] - 0s 3ms/step - loss: 2.1642 - mae: 2.1642\n",
      "Epoch 15/100\n",
      "2/2 [==============================] - 0s 4ms/step - loss: 3.2254 - mae: 3.2254\n",
      "Epoch 16/100\n",
      "2/2 [==============================] - 0s 3ms/step - loss: 2.0985 - mae: 2.0985\n",
      "Epoch 17/100\n",
      "2/2 [==============================] - 0s 4ms/step - loss: 1.4679 - mae: 1.4679\n",
      "Epoch 18/100\n",
      "2/2 [==============================] - 0s 3ms/step - loss: 3.3402 - mae: 3.3402\n",
      "Epoch 19/100\n",
      "2/2 [==============================] - 0s 3ms/step - loss: 2.0139 - mae: 2.0139\n",
      "Epoch 20/100\n",
      "2/2 [==============================] - 0s 3ms/step - loss: 2.1060 - mae: 2.1060\n",
      "Epoch 21/100\n",
      "2/2 [==============================] - 0s 4ms/step - loss: 0.7782 - mae: 0.7782\n",
      "Epoch 22/100\n",
      "2/2 [==============================] - 0s 3ms/step - loss: 0.8548 - mae: 0.8548\n",
      "Epoch 23/100\n",
      "2/2 [==============================] - 0s 4ms/step - loss: 1.5448 - mae: 1.5448\n",
      "Epoch 24/100\n",
      "2/2 [==============================] - 0s 3ms/step - loss: 1.0785 - mae: 1.0785\n",
      "Epoch 25/100\n",
      "2/2 [==============================] - 0s 2ms/step - loss: 1.6144 - mae: 1.6144\n",
      "Epoch 26/100\n",
      "2/2 [==============================] - 0s 3ms/step - loss: 1.0869 - mae: 1.0869\n",
      "Epoch 27/100\n",
      "2/2 [==============================] - 0s 3ms/step - loss: 2.7064 - mae: 2.7064\n",
      "Epoch 28/100\n",
      "2/2 [==============================] - 0s 3ms/step - loss: 1.2203 - mae: 1.2203\n",
      "Epoch 29/100\n",
      "2/2 [==============================] - 0s 3ms/step - loss: 1.1185 - mae: 1.1185\n",
      "Epoch 30/100\n",
      "2/2 [==============================] - 0s 3ms/step - loss: 2.1813 - mae: 2.1813\n",
      "Epoch 31/100\n",
      "2/2 [==============================] - 0s 3ms/step - loss: 1.3827 - mae: 1.3827\n",
      "Epoch 32/100\n",
      "2/2 [==============================] - 0s 3ms/step - loss: 1.1313 - mae: 1.1313\n",
      "Epoch 33/100\n",
      "2/2 [==============================] - 0s 4ms/step - loss: 1.6476 - mae: 1.6476\n",
      "Epoch 34/100\n",
      "2/2 [==============================] - 0s 3ms/step - loss: 1.6383 - mae: 1.6383\n",
      "Epoch 35/100\n",
      "2/2 [==============================] - 0s 2ms/step - loss: 1.1555 - mae: 1.1555\n",
      "Epoch 36/100\n",
      "2/2 [==============================] - 0s 3ms/step - loss: 1.6841 - mae: 1.6841\n",
      "Epoch 37/100\n",
      "2/2 [==============================] - 0s 2ms/step - loss: 1.5895 - mae: 1.5895\n",
      "Epoch 38/100\n",
      "2/2 [==============================] - 0s 4ms/step - loss: 1.1802 - mae: 1.1802\n",
      "Epoch 39/100\n",
      "2/2 [==============================] - 0s 3ms/step - loss: 1.5275 - mae: 1.5275\n",
      "Epoch 40/100\n",
      "2/2 [==============================] - 0s 3ms/step - loss: 1.4428 - mae: 1.4428\n",
      "Epoch 41/100\n",
      "2/2 [==============================] - 0s 3ms/step - loss: 1.0848 - mae: 1.0848\n",
      "Epoch 42/100\n",
      "2/2 [==============================] - 0s 3ms/step - loss: 2.6025 - mae: 2.6025\n",
      "Epoch 43/100\n",
      "2/2 [==============================] - 0s 2ms/step - loss: 1.1632 - mae: 1.1632\n",
      "Epoch 44/100\n",
      "2/2 [==============================] - 0s 2ms/step - loss: 4.4460 - mae: 4.4460\n",
      "Epoch 45/100\n",
      "2/2 [==============================] - 0s 4ms/step - loss: 2.0384 - mae: 2.0384\n",
      "Epoch 46/100\n",
      "2/2 [==============================] - 0s 3ms/step - loss: 4.1716 - mae: 4.1716\n",
      "Epoch 47/100\n",
      "2/2 [==============================] - 0s 3ms/step - loss: 5.5198 - mae: 5.5198\n",
      "Epoch 48/100\n",
      "2/2 [==============================] - 0s 3ms/step - loss: 1.7976 - mae: 1.7976\n",
      "Epoch 49/100\n",
      "2/2 [==============================] - 0s 2ms/step - loss: 2.0325 - mae: 2.0325\n",
      "Epoch 50/100\n",
      "2/2 [==============================] - 0s 4ms/step - loss: 1.0538 - mae: 1.0538\n",
      "Epoch 51/100\n",
      "2/2 [==============================] - 0s 4ms/step - loss: 3.4887 - mae: 3.4887\n",
      "Epoch 52/100\n",
      "2/2 [==============================] - 0s 4ms/step - loss: 1.5735 - mae: 1.5735\n",
      "Epoch 53/100\n",
      "2/2 [==============================] - 0s 2ms/step - loss: 2.2295 - mae: 2.2295\n",
      "Epoch 54/100\n",
      "2/2 [==============================] - 0s 3ms/step - loss: 1.1991 - mae: 1.1991\n",
      "Epoch 55/100\n",
      "2/2 [==============================] - 0s 3ms/step - loss: 2.9142 - mae: 2.9142\n",
      "Epoch 56/100\n",
      "2/2 [==============================] - 0s 3ms/step - loss: 1.3072 - mae: 1.3072\n",
      "Epoch 57/100\n",
      "2/2 [==============================] - 0s 3ms/step - loss: 2.1011 - mae: 2.1011\n",
      "Epoch 58/100\n",
      "2/2 [==============================] - 0s 4ms/step - loss: 0.9572 - mae: 0.9572\n",
      "Epoch 59/100\n",
      "2/2 [==============================] - 0s 3ms/step - loss: 2.8064 - mae: 2.8064\n",
      "Epoch 60/100\n",
      "2/2 [==============================] - 0s 4ms/step - loss: 1.2582 - mae: 1.2582\n",
      "Epoch 61/100\n",
      "2/2 [==============================] - 0s 3ms/step - loss: 2.5954 - mae: 2.5954\n",
      "Epoch 62/100\n",
      "2/2 [==============================] - 0s 4ms/step - loss: 1.1893 - mae: 1.1893\n",
      "Epoch 63/100\n",
      "2/2 [==============================] - 0s 2ms/step - loss: 2.7516 - mae: 2.7516\n",
      "Epoch 64/100\n",
      "2/2 [==============================] - 0s 3ms/step - loss: 1.1840 - mae: 1.1840\n",
      "Epoch 65/100\n",
      "2/2 [==============================] - 0s 4ms/step - loss: 1.7938 - mae: 1.7938\n",
      "Epoch 66/100\n",
      "2/2 [==============================] - 0s 3ms/step - loss: 0.1640 - mae: 0.1640\n",
      "Epoch 67/100\n",
      "2/2 [==============================] - 0s 2ms/step - loss: 0.5986 - mae: 0.5986\n",
      "Epoch 68/100\n",
      "2/2 [==============================] - 0s 3ms/step - loss: 1.1310 - mae: 1.1310\n",
      "Epoch 69/100\n",
      "2/2 [==============================] - 0s 2ms/step - loss: 0.7069 - mae: 0.7069\n",
      "Epoch 70/100\n",
      "2/2 [==============================] - 0s 2ms/step - loss: 2.5958 - mae: 2.5958\n",
      "Epoch 71/100\n",
      "2/2 [==============================] - 0s 3ms/step - loss: 1.0778 - mae: 1.0778\n",
      "Epoch 72/100\n",
      "2/2 [==============================] - 0s 2ms/step - loss: 2.8178 - mae: 2.8178\n",
      "Epoch 73/100\n",
      "2/2 [==============================] - 0s 4ms/step - loss: 1.2410 - mae: 1.2410\n",
      "Epoch 74/100\n",
      "2/2 [==============================] - 0s 3ms/step - loss: 2.4379 - mae: 2.4379\n",
      "Epoch 75/100\n",
      "2/2 [==============================] - 0s 2ms/step - loss: 1.1239 - mae: 1.1239\n",
      "Epoch 76/100\n",
      "2/2 [==============================] - 0s 4ms/step - loss: 1.6564 - mae: 1.6564\n",
      "Epoch 77/100\n",
      "2/2 [==============================] - 0s 3ms/step - loss: 0.6222 - mae: 0.6222\n",
      "Epoch 78/100\n",
      "2/2 [==============================] - 0s 2ms/step - loss: 0.9085 - mae: 0.9085\n",
      "Epoch 79/100\n",
      "2/2 [==============================] - 0s 3ms/step - loss: 1.3051 - mae: 1.3051\n",
      "Epoch 80/100\n",
      "2/2 [==============================] - 0s 2ms/step - loss: 0.8399 - mae: 0.8399\n",
      "Epoch 81/100\n",
      "2/2 [==============================] - 0s 3ms/step - loss: 2.6015 - mae: 2.6015\n",
      "Epoch 82/100\n",
      "2/2 [==============================] - 0s 2ms/step - loss: 1.1185 - mae: 1.1185\n",
      "Epoch 83/100\n",
      "2/2 [==============================] - 0s 3ms/step - loss: 3.3286 - mae: 3.3286\n",
      "Epoch 84/100\n",
      "2/2 [==============================] - 0s 4ms/step - loss: 1.8202 - mae: 1.8202\n",
      "Epoch 85/100\n",
      "2/2 [==============================] - 0s 2ms/step - loss: 2.8380 - mae: 2.8380\n",
      "Epoch 86/100\n",
      "2/2 [==============================] - 0s 2ms/step - loss: 3.5946 - mae: 3.5946\n",
      "Epoch 87/100\n",
      "2/2 [==============================] - 0s 3ms/step - loss: 1.2870 - mae: 1.2870\n",
      "Epoch 88/100\n",
      "2/2 [==============================] - 0s 3ms/step - loss: 3.6649 - mae: 3.6649\n",
      "Epoch 89/100\n"
     ]
    },
    {
     "name": "stdout",
     "output_type": "stream",
     "text": [
      "2/2 [==============================] - 0s 3ms/step - loss: 2.5580 - mae: 2.5580\n",
      "Epoch 90/100\n",
      "2/2 [==============================] - 0s 3ms/step - loss: 1.4488 - mae: 1.4488\n",
      "Epoch 91/100\n",
      "2/2 [==============================] - 0s 4ms/step - loss: 2.1885 - mae: 2.1885\n",
      "Epoch 92/100\n",
      "2/2 [==============================] - 0s 4ms/step - loss: 0.4646 - mae: 0.4646\n",
      "Epoch 93/100\n",
      "2/2 [==============================] - 0s 4ms/step - loss: 0.6470 - mae: 0.6470\n",
      "Epoch 94/100\n",
      "2/2 [==============================] - 0s 2ms/step - loss: 1.0511 - mae: 1.0511\n",
      "Epoch 95/100\n",
      "2/2 [==============================] - 0s 2ms/step - loss: 1.4851 - mae: 1.4851\n",
      "Epoch 96/100\n",
      "2/2 [==============================] - 0s 3ms/step - loss: 0.9036 - mae: 0.9036\n",
      "Epoch 97/100\n",
      "2/2 [==============================] - 0s 3ms/step - loss: 0.3785 - mae: 0.3785\n",
      "Epoch 98/100\n",
      "2/2 [==============================] - 0s 1ms/step - loss: 0.3021 - mae: 0.3021\n",
      "Epoch 99/100\n",
      "2/2 [==============================] - 0s 2ms/step - loss: 0.1623 - mae: 0.1623\n",
      "Epoch 100/100\n",
      "2/2 [==============================] - 0s 3ms/step - loss: 0.3050 - mae: 0.3050\n"
     ]
    },
    {
     "data": {
      "text/plain": [
       "<keras.callbacks.History at 0x1cfe38e6ca0>"
      ]
     },
     "execution_count": 23,
     "metadata": {},
     "output_type": "execute_result"
    }
   ],
   "source": [
    "#Fit Model\n",
    "model.fit(X,y,epochs = 100)"
   ]
  },
  {
   "cell_type": "code",
   "execution_count": 24,
   "metadata": {
    "colab": {
     "base_uri": "https://localhost:8080/"
    },
    "id": "PdlKENQ0fiat",
    "outputId": "b68759ae-eba2-4e03-ca8f-b357ad891b9b"
   },
   "outputs": [
    {
     "data": {
      "text/plain": [
       "40.0"
      ]
     },
     "execution_count": 24,
     "metadata": {},
     "output_type": "execute_result"
    }
   ],
   "source": [
    "length = len(X)\n",
    "length*0.8"
   ]
  },
  {
   "cell_type": "code",
   "execution_count": 37,
   "metadata": {
    "id": "DejVsNeAg3WM"
   },
   "outputs": [],
   "source": [
    "X_train = X[:int(length*0.8)]\n",
    "y_train = y[:int(length*0.8)]"
   ]
  },
  {
   "cell_type": "code",
   "execution_count": 36,
   "metadata": {
    "id": "j6H6agTjhB22"
   },
   "outputs": [],
   "source": [
    "X_test = X[int(length*0.8):]\n",
    "y_test = y[int(length*0.8):]"
   ]
  },
  {
   "cell_type": "markdown",
   "metadata": {
    "id": "edEpIvxOhLaq"
   },
   "source": [
    "##Visualizing the data"
   ]
  },
  {
   "cell_type": "code",
   "execution_count": 27,
   "metadata": {
    "colab": {
     "base_uri": "https://localhost:8080/",
     "height": 445
    },
    "id": "CqeKQtKChQOD",
    "outputId": "493d7f2c-8e19-4587-fea5-700e64f17663"
   },
   "outputs": [
    {
     "ename": "NameError",
     "evalue": "name 'X_test' is not defined",
     "output_type": "error",
     "traceback": [
      "\u001b[1;31m---------------------------------------------------------------------------\u001b[0m",
      "\u001b[1;31mNameError\u001b[0m                                 Traceback (most recent call last)",
      "Input \u001b[1;32mIn [27]\u001b[0m, in \u001b[0;36m<cell line: 3>\u001b[1;34m()\u001b[0m\n\u001b[0;32m      1\u001b[0m plt\u001b[38;5;241m.\u001b[39mfigure(figsize \u001b[38;5;241m=\u001b[39m (\u001b[38;5;241m10\u001b[39m,\u001b[38;5;241m7\u001b[39m))\n\u001b[0;32m      2\u001b[0m plt\u001b[38;5;241m.\u001b[39mscatter(X_train,y_train,c\u001b[38;5;241m=\u001b[39m\u001b[38;5;124m\"\u001b[39m\u001b[38;5;124mb\u001b[39m\u001b[38;5;124m\"\u001b[39m,label \u001b[38;5;241m=\u001b[39m \u001b[38;5;124m\"\u001b[39m\u001b[38;5;124mTraining Data\u001b[39m\u001b[38;5;124m\"\u001b[39m)\n\u001b[1;32m----> 3\u001b[0m plt\u001b[38;5;241m.\u001b[39mscatter(\u001b[43mX_test\u001b[49m,y_test,c\u001b[38;5;241m=\u001b[39m\u001b[38;5;124m\"\u001b[39m\u001b[38;5;124mg\u001b[39m\u001b[38;5;124m\"\u001b[39m,label \u001b[38;5;241m=\u001b[39m \u001b[38;5;124m\"\u001b[39m\u001b[38;5;124mTesting Data\u001b[39m\u001b[38;5;124m\"\u001b[39m)\n\u001b[0;32m      4\u001b[0m plt\u001b[38;5;241m.\u001b[39mlegend()\n",
      "\u001b[1;31mNameError\u001b[0m: name 'X_test' is not defined"
     ]
    },
    {
     "data": {
      "image/png": "[encoded data removed]",
      "text/plain": [
       "<Figure size 720x504 with 1 Axes>"
      ]
     },
     "metadata": {
      "needs_background": "light"
     },
     "output_type": "display_data"
    }
   ],
   "source": [
    "plt.figure(figsize = (10,7))\n",
    "plt.scatter(X_train,y_train,c=\"b\",label = \"Training Data\")\n",
    "plt.scatter(X_test,y_test,c=\"g\",label = \"Testing Data\")\n",
    "plt.legend()"
   ]
  },
  {
   "cell_type": "code",
   "execution_count": 28,
   "metadata": {
    "id": "szOLkXjrhj7W"
   },
   "outputs": [],
   "source": []
  },
  {
   "cell_type": "code",
   "execution_count": null,
   "metadata": {
    "id": "BUssLWTCSzOi"
   },
   "outputs": [],
   "source": []
  },
  {
   "cell_type": "code",
   "execution_count": 30,
   "metadata": {
    "id": "75AvF1ZpTEqN"
   },
   "outputs": [],
   "source": [
    "model = tf.keras.Sequential([\n",
    "    tf.keras.layers.Dense(10,input_shape=[1],name = \"input_layer\"),\n",
    "\n",
    "    tf.keras.layers.Dense(1,name = \"output_layer\")\n",
    "])\n",
    "model.compile(loss = tf.keras.losses.mae, optimizer = tf.keras.optimizers.Adam(lr = 0.0001),metrics = ['mae'])"
   ]
  },
  {
   "cell_type": "code",
   "execution_count": 31,
   "metadata": {
    "colab": {
     "base_uri": "https://localhost:8080/"
    },
    "id": "utO-X0TTTgS6",
    "outputId": "a0284355-ac5c-496f-c0a7-c458df966c2a"
   },
   "outputs": [
    {
     "name": "stdout",
     "output_type": "stream",
     "text": [
      "Epoch 1/100\n",
      "2/2 [==============================] - 0s 2ms/step - loss: 18.1653 - mae: 18.1653\n",
      "Epoch 2/100\n",
      "2/2 [==============================] - 0s 2ms/step - loss: 18.0912 - mae: 18.0912\n",
      "Epoch 3/100\n",
      "2/2 [==============================] - 0s 2ms/step - loss: 18.0202 - mae: 18.0202\n",
      "Epoch 4/100\n",
      "2/2 [==============================] - 0s 3ms/step - loss: 17.9472 - mae: 17.9472\n",
      "Epoch 5/100\n",
      "2/2 [==============================] - 0s 2ms/step - loss: 17.8751 - mae: 17.8751\n",
      "Epoch 6/100\n",
      "2/2 [==============================] - 0s 3ms/step - loss: 17.8035 - mae: 17.8035\n",
      "Epoch 7/100\n",
      "2/2 [==============================] - 0s 2ms/step - loss: 17.7298 - mae: 17.7298\n",
      "Epoch 8/100\n",
      "2/2 [==============================] - 0s 2ms/step - loss: 17.6549 - mae: 17.6549\n",
      "Epoch 9/100\n",
      "2/2 [==============================] - 0s 3ms/step - loss: 17.5833 - mae: 17.5833\n",
      "Epoch 10/100\n",
      "2/2 [==============================] - 0s 1ms/step - loss: 17.5125 - mae: 17.5125\n",
      "Epoch 11/100\n",
      "2/2 [==============================] - 0s 2ms/step - loss: 17.4356 - mae: 17.4356\n",
      "Epoch 12/100\n",
      "2/2 [==============================] - 0s 2ms/step - loss: 17.3635 - mae: 17.3635\n",
      "Epoch 13/100\n",
      "2/2 [==============================] - 0s 2ms/step - loss: 17.2873 - mae: 17.2873\n",
      "Epoch 14/100\n",
      "2/2 [==============================] - 0s 1ms/step - loss: 17.2157 - mae: 17.2157\n",
      "Epoch 15/100\n",
      "2/2 [==============================] - 0s 3ms/step - loss: 17.1428 - mae: 17.1428\n",
      "Epoch 16/100\n",
      "2/2 [==============================] - 0s 1ms/step - loss: 17.0674 - mae: 17.0674\n",
      "Epoch 17/100\n",
      "2/2 [==============================] - 0s 2ms/step - loss: 16.9934 - mae: 16.9934\n",
      "Epoch 18/100\n",
      "2/2 [==============================] - 0s 4ms/step - loss: 16.9208 - mae: 16.9208\n",
      "Epoch 19/100\n",
      "2/2 [==============================] - 0s 2ms/step - loss: 16.8498 - mae: 16.8498\n",
      "Epoch 20/100\n",
      "2/2 [==============================] - 0s 2ms/step - loss: 16.7745 - mae: 16.7745\n",
      "Epoch 21/100\n",
      "2/2 [==============================] - 0s 3ms/step - loss: 16.7026 - mae: 16.7026\n",
      "Epoch 22/100\n",
      "2/2 [==============================] - 0s 1ms/step - loss: 16.6342 - mae: 16.6342\n",
      "Epoch 23/100\n",
      "2/2 [==============================] - 0s 3ms/step - loss: 16.5650 - mae: 16.5650\n",
      "Epoch 24/100\n",
      "2/2 [==============================] - 0s 2ms/step - loss: 16.4949 - mae: 16.4949\n",
      "Epoch 25/100\n",
      "2/2 [==============================] - 0s 2ms/step - loss: 16.4259 - mae: 16.4259\n",
      "Epoch 26/100\n",
      "2/2 [==============================] - 0s 2ms/step - loss: 16.3593 - mae: 16.3593\n",
      "Epoch 27/100\n",
      "2/2 [==============================] - 0s 2ms/step - loss: 16.2896 - mae: 16.2896\n",
      "Epoch 28/100\n",
      "2/2 [==============================] - 0s 3ms/step - loss: 16.2233 - mae: 16.2233\n",
      "Epoch 29/100\n",
      "2/2 [==============================] - 0s 3ms/step - loss: 16.1488 - mae: 16.1488\n",
      "Epoch 30/100\n",
      "2/2 [==============================] - 0s 2ms/step - loss: 16.0775 - mae: 16.0775\n",
      "Epoch 31/100\n",
      "2/2 [==============================] - 0s 2ms/step - loss: 16.0132 - mae: 16.0132\n",
      "Epoch 32/100\n",
      "2/2 [==============================] - 0s 2ms/step - loss: 15.9412 - mae: 15.9412\n",
      "Epoch 33/100\n",
      "2/2 [==============================] - 0s 1ms/step - loss: 15.8688 - mae: 15.8688\n",
      "Epoch 34/100\n",
      "2/2 [==============================] - 0s 2ms/step - loss: 15.8027 - mae: 15.8027\n",
      "Epoch 35/100\n",
      "2/2 [==============================] - 0s 3ms/step - loss: 15.7306 - mae: 15.7306\n",
      "Epoch 36/100\n",
      "2/2 [==============================] - 0s 3ms/step - loss: 15.6669 - mae: 15.6669\n",
      "Epoch 37/100\n",
      "2/2 [==============================] - 0s 2ms/step - loss: 15.5967 - mae: 15.5967\n",
      "Epoch 38/100\n",
      "2/2 [==============================] - 0s 2ms/step - loss: 15.5315 - mae: 15.5315\n",
      "Epoch 39/100\n",
      "2/2 [==============================] - 0s 2ms/step - loss: 15.4639 - mae: 15.4639\n",
      "Epoch 40/100\n",
      "2/2 [==============================] - 0s 2ms/step - loss: 15.3977 - mae: 15.3977\n",
      "Epoch 41/100\n",
      "2/2 [==============================] - 0s 3ms/step - loss: 15.3314 - mae: 15.3314\n",
      "Epoch 42/100\n",
      "2/2 [==============================] - 0s 2ms/step - loss: 15.2657 - mae: 15.2657\n",
      "Epoch 43/100\n",
      "2/2 [==============================] - 0s 2ms/step - loss: 15.1950 - mae: 15.1950\n",
      "Epoch 44/100\n",
      "2/2 [==============================] - 0s 4ms/step - loss: 15.1321 - mae: 15.1321\n",
      "Epoch 45/100\n",
      "2/2 [==============================] - 0s 2ms/step - loss: 15.0633 - mae: 15.0633\n",
      "Epoch 46/100\n",
      "2/2 [==============================] - 0s 3ms/step - loss: 15.0004 - mae: 15.0004\n",
      "Epoch 47/100\n",
      "2/2 [==============================] - 0s 3ms/step - loss: 14.9311 - mae: 14.9311\n",
      "Epoch 48/100\n",
      "2/2 [==============================] - 0s 3ms/step - loss: 14.8682 - mae: 14.8682\n",
      "Epoch 49/100\n",
      "2/2 [==============================] - 0s 3ms/step - loss: 14.8026 - mae: 14.8026\n",
      "Epoch 50/100\n",
      "2/2 [==============================] - 0s 3ms/step - loss: 14.7398 - mae: 14.7398\n",
      "Epoch 51/100\n",
      "2/2 [==============================] - 0s 3ms/step - loss: 14.6717 - mae: 14.6717\n",
      "Epoch 52/100\n",
      "2/2 [==============================] - 0s 2ms/step - loss: 14.6093 - mae: 14.6093\n",
      "Epoch 53/100\n",
      "2/2 [==============================] - 0s 4ms/step - loss: 14.5391 - mae: 14.5391\n",
      "Epoch 54/100\n",
      "2/2 [==============================] - 0s 3ms/step - loss: 14.4708 - mae: 14.4708\n",
      "Epoch 55/100\n",
      "2/2 [==============================] - 0s 2ms/step - loss: 14.4037 - mae: 14.4037\n",
      "Epoch 56/100\n",
      "2/2 [==============================] - 0s 2ms/step - loss: 14.3336 - mae: 14.3336\n",
      "Epoch 57/100\n",
      "2/2 [==============================] - 0s 3ms/step - loss: 14.2671 - mae: 14.2671\n",
      "Epoch 58/100\n",
      "2/2 [==============================] - 0s 3ms/step - loss: 14.2004 - mae: 14.2004\n",
      "Epoch 59/100\n",
      "2/2 [==============================] - 0s 2ms/step - loss: 14.1356 - mae: 14.1356\n",
      "Epoch 60/100\n",
      "2/2 [==============================] - 0s 2ms/step - loss: 14.0718 - mae: 14.0718\n",
      "Epoch 61/100\n",
      "2/2 [==============================] - 0s 2ms/step - loss: 14.0064 - mae: 14.0064\n",
      "Epoch 62/100\n",
      "2/2 [==============================] - 0s 3ms/step - loss: 13.9458 - mae: 13.9458\n",
      "Epoch 63/100\n",
      "2/2 [==============================] - 0s 2ms/step - loss: 13.8804 - mae: 13.8804\n",
      "Epoch 64/100\n",
      "2/2 [==============================] - 0s 3ms/step - loss: 13.8172 - mae: 13.8172\n",
      "Epoch 65/100\n",
      "2/2 [==============================] - 0s 2ms/step - loss: 13.7532 - mae: 13.7532\n",
      "Epoch 66/100\n",
      "2/2 [==============================] - 0s 3ms/step - loss: 13.6909 - mae: 13.6909\n",
      "Epoch 67/100\n",
      "2/2 [==============================] - 0s 2ms/step - loss: 13.6272 - mae: 13.6272\n",
      "Epoch 68/100\n",
      "2/2 [==============================] - 0s 3ms/step - loss: 13.5621 - mae: 13.5621\n",
      "Epoch 69/100\n",
      "2/2 [==============================] - 0s 3ms/step - loss: 13.5006 - mae: 13.5006\n",
      "Epoch 70/100\n",
      "2/2 [==============================] - 0s 2ms/step - loss: 13.4363 - mae: 13.4363\n",
      "Epoch 71/100\n",
      "2/2 [==============================] - 0s 1ms/step - loss: 13.3739 - mae: 13.3739\n",
      "Epoch 72/100\n",
      "2/2 [==============================] - 0s 3ms/step - loss: 13.3114 - mae: 13.3114\n",
      "Epoch 73/100\n",
      "2/2 [==============================] - 0s 3ms/step - loss: 13.2450 - mae: 13.2450\n",
      "Epoch 74/100\n",
      "2/2 [==============================] - 0s 4ms/step - loss: 13.1860 - mae: 13.1860\n",
      "Epoch 75/100\n",
      "2/2 [==============================] - 0s 2ms/step - loss: 13.1186 - mae: 13.1186\n",
      "Epoch 76/100\n",
      "2/2 [==============================] - 0s 3ms/step - loss: 13.0539 - mae: 13.0539\n",
      "Epoch 77/100\n",
      "2/2 [==============================] - 0s 4ms/step - loss: 12.9903 - mae: 12.9903\n",
      "Epoch 78/100\n",
      "2/2 [==============================] - 0s 4ms/step - loss: 12.9223 - mae: 12.9223\n",
      "Epoch 79/100\n",
      "2/2 [==============================] - 0s 3ms/step - loss: 12.8553 - mae: 12.8553\n",
      "Epoch 80/100\n",
      "2/2 [==============================] - 0s 2ms/step - loss: 12.7921 - mae: 12.7921\n",
      "Epoch 81/100\n",
      "2/2 [==============================] - 0s 3ms/step - loss: 12.7286 - mae: 12.7286\n",
      "Epoch 82/100\n",
      "2/2 [==============================] - 0s 4ms/step - loss: 12.6605 - mae: 12.6605\n",
      "Epoch 83/100\n",
      "2/2 [==============================] - 0s 3ms/step - loss: 12.6028 - mae: 12.6028\n",
      "Epoch 84/100\n",
      "2/2 [==============================] - 0s 4ms/step - loss: 12.5377 - mae: 12.5377\n",
      "Epoch 85/100\n",
      "2/2 [==============================] - 0s 5ms/step - loss: 12.4813 - mae: 12.4813\n",
      "Epoch 86/100\n",
      "2/2 [==============================] - 0s 3ms/step - loss: 12.4219 - mae: 12.4219\n",
      "Epoch 87/100\n"
     ]
    },
    {
     "name": "stdout",
     "output_type": "stream",
     "text": [
      "2/2 [==============================] - 0s 4ms/step - loss: 12.3598 - mae: 12.3598\n",
      "Epoch 88/100\n",
      "2/2 [==============================] - 0s 4ms/step - loss: 12.3009 - mae: 12.3009\n",
      "Epoch 89/100\n",
      "2/2 [==============================] - 0s 3ms/step - loss: 12.2370 - mae: 12.2370\n",
      "Epoch 90/100\n",
      "2/2 [==============================] - 0s 3ms/step - loss: 12.1757 - mae: 12.1757\n",
      "Epoch 91/100\n",
      "2/2 [==============================] - 0s 3ms/step - loss: 12.1114 - mae: 12.1114\n",
      "Epoch 92/100\n",
      "2/2 [==============================] - 0s 2ms/step - loss: 12.0519 - mae: 12.0519\n",
      "Epoch 93/100\n",
      "2/2 [==============================] - 0s 2ms/step - loss: 11.9887 - mae: 11.9887\n",
      "Epoch 94/100\n",
      "2/2 [==============================] - 0s 3ms/step - loss: 11.9254 - mae: 11.9254\n",
      "Epoch 95/100\n",
      "2/2 [==============================] - 0s 3ms/step - loss: 11.8654 - mae: 11.8654\n",
      "Epoch 96/100\n",
      "2/2 [==============================] - 0s 2ms/step - loss: 11.8015 - mae: 11.8015\n",
      "Epoch 97/100\n",
      "2/2 [==============================] - 0s 3ms/step - loss: 11.7448 - mae: 11.7448\n",
      "Epoch 98/100\n",
      "2/2 [==============================] - 0s 3ms/step - loss: 11.6827 - mae: 11.6827\n",
      "Epoch 99/100\n",
      "2/2 [==============================] - 0s 2ms/step - loss: 11.6193 - mae: 11.6193\n",
      "Epoch 100/100\n",
      "2/2 [==============================] - 0s 3ms/step - loss: 11.5605 - mae: 11.5605\n"
     ]
    },
    {
     "data": {
      "text/plain": [
       "<keras.callbacks.History at 0x1cfe7c20b20>"
      ]
     },
     "execution_count": 31,
     "metadata": {},
     "output_type": "execute_result"
    }
   ],
   "source": [
    "model.fit(X_train,y_train,epochs = 100)"
   ]
  },
  {
   "cell_type": "code",
   "execution_count": 32,
   "metadata": {
    "colab": {
     "base_uri": "https://localhost:8080/",
     "height": 312
    },
    "id": "wMVDhfmYVdu0",
    "outputId": "ad87862f-08b1-41f6-bdde-b3a49dc188d2"
   },
   "outputs": [
    {
     "name": "stdout",
     "output_type": "stream",
     "text": [
      "You must install pydot (`pip install pydot`) and install graphviz (see instructions at https://graphviz.gitlab.io/download/) for plot_model/model_to_dot to work.\n"
     ]
    }
   ],
   "source": [
    "from tensorflow.keras.utils import plot_model\n",
    "plot_model(model,show_shapes = True)"
   ]
  },
  {
   "cell_type": "markdown",
   "metadata": {
    "id": "UZ39UOc9-SpM"
   },
   "source": [
    "## Visualizing the predictions"
   ]
  },
  {
   "cell_type": "code",
   "execution_count": 33,
   "metadata": {
    "colab": {
     "base_uri": "https://localhost:8080/"
    },
    "id": "tiY8blbc_0iI",
    "outputId": "4208efc9-710d-48ad-f8d9-45e863b5d8ef"
   },
   "outputs": [
    {
     "data": {
      "text/plain": [
       "<tf.Tensor: shape=(40,), dtype=int32, numpy=\n",
       "array([-90, -86, -82, -78, -74, -70, -66, -62, -58, -54, -50, -46, -42,\n",
       "       -38, -34, -30, -26, -22, -18, -14, -10,  -6,  -2,   2,   6,  10,\n",
       "        14,  18,  22,  26,  30,  34,  38,  42,  46,  50,  54,  58,  62,\n",
       "        66])>"
      ]
     },
     "execution_count": 33,
     "metadata": {},
     "output_type": "execute_result"
    }
   ],
   "source": [
    "\n",
    "X_train\n",
    "y_train"
   ]
  },
  {
   "cell_type": "code",
   "execution_count": 39,
   "metadata": {
    "colab": {
     "base_uri": "https://localhost:8080/"
    },
    "id": "VBibvbnrAS8I",
    "outputId": "cf4decc2-16ff-46d1-bb85-ee6c320b8806"
   },
   "outputs": [
    {
     "data": {
      "text/plain": [
       "<tf.Tensor: shape=(10,), dtype=int32, numpy=array([ 70,  74,  78,  82,  86,  90,  94,  98, 102, 106])>"
      ]
     },
     "execution_count": 39,
     "metadata": {},
     "output_type": "execute_result"
    }
   ],
   "source": [
    "y_test"
   ]
  },
  {
   "cell_type": "code",
   "execution_count": 40,
   "metadata": {
    "colab": {
     "base_uri": "https://localhost:8080/"
    },
    "id": "vD9etmpqAYyf",
    "outputId": "bc7945c5-26c4-4825-f51f-9558cade3ab4"
   },
   "outputs": [
    {
     "data": {
      "text/plain": [
       "<tf.Tensor: shape=(10,), dtype=int32, numpy=array([60, 64, 68, 72, 76, 80, 84, 88, 92, 96])>"
      ]
     },
     "execution_count": 40,
     "metadata": {},
     "output_type": "execute_result"
    }
   ],
   "source": [
    "X_test"
   ]
  },
  {
   "cell_type": "code",
   "execution_count": 41,
   "metadata": {
    "id": "zzq4PRTMBKML"
   },
   "outputs": [
    {
     "name": "stdout",
     "output_type": "stream",
     "text": [
      "1/1 [==============================] - 0s 36ms/step\n"
     ]
    }
   ],
   "source": [
    "y_pred = model.predict(X_test)"
   ]
  },
  {
   "cell_type": "code",
   "execution_count": 42,
   "metadata": {
    "colab": {
     "base_uri": "https://localhost:8080/"
    },
    "id": "xpI7dKf0BPSM",
    "outputId": "639145d4-a978-43e9-bb4d-7004b98d6792"
   },
   "outputs": [
    {
     "data": {
      "text/plain": [
       "array([[43.24762 ],\n",
       "       [46.129116],\n",
       "       [49.010605],\n",
       "       [51.8921  ],\n",
       "       [54.773605],\n",
       "       [57.655098],\n",
       "       [60.53659 ],\n",
       "       [63.41809 ],\n",
       "       [66.29958 ],\n",
       "       [69.181076]], dtype=float32)"
      ]
     },
     "execution_count": 42,
     "metadata": {},
     "output_type": "execute_result"
    }
   ],
   "source": [
    "y_pred"
   ]
  },
  {
   "cell_type": "code",
   "execution_count": null,
   "metadata": {
    "colab": {
     "base_uri": "https://localhost:8080/"
    },
    "id": "82H-sR7LBQEY",
    "outputId": "a250905b-6f16-416b-fc34-70006fededd0"
   },
   "outputs": [
    {
     "data": {
      "text/plain": [
       "<tf.Tensor: shape=(10,), dtype=int32, numpy=array([ 70,  74,  78,  82,  86,  90,  94,  98, 102, 106], dtype=int32)>"
      ]
     },
     "execution_count": 274,
     "metadata": {},
     "output_type": "execute_result"
    }
   ],
   "source": [
    "y_test"
   ]
  },
  {
   "cell_type": "code",
   "execution_count": 43,
   "metadata": {
    "id": "OZGo47TRFckI"
   },
   "outputs": [],
   "source": [
    "tf.random.set_seed(42)\n",
    "x = tf.range(-100,100,4)\n",
    "y = x+10"
   ]
  },
  {
   "cell_type": "code",
   "execution_count": 44,
   "metadata": {
    "id": "7M4O0VWVGxqz"
   },
   "outputs": [],
   "source": [
    "x_train = x[:int(len(x)*0.8)]\n",
    "y_train = y[:int(len(y)*0.8)]\n",
    "\n",
    "x_test = x[int(len(x)*0.8):]\n",
    "y_test = y[int(len(y)*0.8):]"
   ]
  },
  {
   "cell_type": "code",
   "execution_count": 45,
   "metadata": {
    "colab": {
     "base_uri": "https://localhost:8080/"
    },
    "id": "vcoeHiZrHRrh",
    "outputId": "efc08e37-e2b6-46ee-99ab-bc8052701c4d"
   },
   "outputs": [],
   "source": [
    "model = tf.keras.Sequential([\n",
    "    tf.keras.layers.Dense(20,input_shape = (1,),name = \"input_layer\"),\n",
    "    tf.keras.layers.Dense(1,name = \"output_layer\")\n",
    "])\n",
    "model.compile(loss = \"mae\",optimizer = tf.keras.optimizers.Adam(lr=0.01),metrics = [\"mae\"])"
   ]
  },
  {
   "cell_type": "code",
   "execution_count": null,
   "metadata": {
    "colab": {
     "base_uri": "https://localhost:8080/"
    },
    "id": "I-NUxU5oHxp-",
    "outputId": "5ca290ef-e31a-4c03-9f07-291c5cb0743e"
   },
   "outputs": [
    {
     "name": "stdout",
     "output_type": "stream",
     "text": [
      "Epoch 1/100\n",
      "2/2 [==============================] - 0s 3ms/step - loss: 16.0578 - mae: 16.0578\n",
      "Epoch 2/100\n",
      "2/2 [==============================] - 0s 4ms/step - loss: 9.4604 - mae: 9.4604\n",
      "Epoch 3/100\n",
      "2/2 [==============================] - 0s 3ms/step - loss: 8.9656 - mae: 8.9656\n",
      "Epoch 4/100\n",
      "2/2 [==============================] - 0s 2ms/step - loss: 9.7772 - mae: 9.7772\n",
      "Epoch 5/100\n",
      "2/2 [==============================] - 0s 4ms/step - loss: 9.2539 - mae: 9.2539\n",
      "Epoch 6/100\n",
      "2/2 [==============================] - 0s 3ms/step - loss: 7.8571 - mae: 7.8571\n",
      "Epoch 7/100\n",
      "2/2 [==============================] - 0s 3ms/step - loss: 7.4772 - mae: 7.4772\n",
      "Epoch 8/100\n",
      "2/2 [==============================] - 0s 3ms/step - loss: 8.5484 - mae: 8.5484\n",
      "Epoch 9/100\n",
      "2/2 [==============================] - 0s 2ms/step - loss: 7.8957 - mae: 7.8957\n",
      "Epoch 10/100\n",
      "2/2 [==============================] - 0s 2ms/step - loss: 6.8220 - mae: 6.8220\n",
      "Epoch 11/100\n",
      "2/2 [==============================] - 0s 2ms/step - loss: 7.9401 - mae: 7.9401\n",
      "Epoch 12/100\n",
      "2/2 [==============================] - 0s 2ms/step - loss: 7.8423 - mae: 7.8423\n",
      "Epoch 13/100\n",
      "2/2 [==============================] - 0s 2ms/step - loss: 6.9026 - mae: 6.9026\n",
      "Epoch 14/100\n",
      "2/2 [==============================] - 0s 2ms/step - loss: 6.9457 - mae: 6.9457\n",
      "Epoch 15/100\n",
      "2/2 [==============================] - 0s 4ms/step - loss: 6.9875 - mae: 6.9875\n",
      "Epoch 16/100\n",
      "2/2 [==============================] - 0s 3ms/step - loss: 6.5986 - mae: 6.5986\n",
      "Epoch 17/100\n",
      "2/2 [==============================] - 0s 2ms/step - loss: 6.3662 - mae: 6.3662\n",
      "Epoch 18/100\n",
      "2/2 [==============================] - 0s 3ms/step - loss: 6.3000 - mae: 6.3000\n",
      "Epoch 19/100\n",
      "2/2 [==============================] - 0s 3ms/step - loss: 6.1895 - mae: 6.1895\n",
      "Epoch 20/100\n",
      "2/2 [==============================] - 0s 3ms/step - loss: 6.1959 - mae: 6.1959\n",
      "Epoch 21/100\n",
      "2/2 [==============================] - 0s 3ms/step - loss: 6.0234 - mae: 6.0234\n",
      "Epoch 22/100\n",
      "2/2 [==============================] - 0s 3ms/step - loss: 5.8906 - mae: 5.8906\n",
      "Epoch 23/100\n",
      "2/2 [==============================] - 0s 3ms/step - loss: 5.8535 - mae: 5.8535\n",
      "Epoch 24/100\n",
      "2/2 [==============================] - 0s 3ms/step - loss: 5.7274 - mae: 5.7274\n",
      "Epoch 25/100\n",
      "2/2 [==============================] - 0s 2ms/step - loss: 5.5977 - mae: 5.5977\n",
      "Epoch 26/100\n",
      "2/2 [==============================] - 0s 4ms/step - loss: 5.4761 - mae: 5.4761\n",
      "Epoch 27/100\n",
      "2/2 [==============================] - 0s 3ms/step - loss: 5.3961 - mae: 5.3961\n",
      "Epoch 28/100\n",
      "2/2 [==============================] - 0s 3ms/step - loss: 5.2513 - mae: 5.2513\n",
      "Epoch 29/100\n",
      "2/2 [==============================] - 0s 3ms/step - loss: 5.2106 - mae: 5.2106\n",
      "Epoch 30/100\n",
      "2/2 [==============================] - 0s 3ms/step - loss: 5.0376 - mae: 5.0376\n",
      "Epoch 31/100\n",
      "2/2 [==============================] - 0s 3ms/step - loss: 4.9646 - mae: 4.9646\n",
      "Epoch 32/100\n",
      "2/2 [==============================] - 0s 4ms/step - loss: 4.7754 - mae: 4.7754\n",
      "Epoch 33/100\n",
      "2/2 [==============================] - 0s 3ms/step - loss: 4.9316 - mae: 4.9316\n",
      "Epoch 34/100\n",
      "2/2 [==============================] - 0s 2ms/step - loss: 4.6930 - mae: 4.6930\n",
      "Epoch 35/100\n",
      "2/2 [==============================] - 0s 2ms/step - loss: 4.8125 - mae: 4.8125\n",
      "Epoch 36/100\n",
      "2/2 [==============================] - 0s 2ms/step - loss: 4.3019 - mae: 4.3019\n",
      "Epoch 37/100\n",
      "2/2 [==============================] - 0s 2ms/step - loss: 4.7097 - mae: 4.7097\n",
      "Epoch 38/100\n",
      "2/2 [==============================] - 0s 3ms/step - loss: 4.1842 - mae: 4.1842\n",
      "Epoch 39/100\n",
      "2/2 [==============================] - 0s 3ms/step - loss: 3.9905 - mae: 3.9905\n",
      "Epoch 40/100\n",
      "2/2 [==============================] - 0s 3ms/step - loss: 3.9089 - mae: 3.9089\n",
      "Epoch 41/100\n",
      "2/2 [==============================] - 0s 2ms/step - loss: 3.9120 - mae: 3.9120\n",
      "Epoch 42/100\n",
      "2/2 [==============================] - 0s 2ms/step - loss: 3.6492 - mae: 3.6492\n",
      "Epoch 43/100\n",
      "2/2 [==============================] - 0s 2ms/step - loss: 3.7733 - mae: 3.7733\n",
      "Epoch 44/100\n",
      "2/2 [==============================] - 0s 3ms/step - loss: 3.1316 - mae: 3.1316\n",
      "Epoch 45/100\n",
      "2/2 [==============================] - 0s 2ms/step - loss: 3.3894 - mae: 3.3894\n",
      "Epoch 46/100\n",
      "2/2 [==============================] - 0s 3ms/step - loss: 2.7843 - mae: 2.7843\n",
      "Epoch 47/100\n",
      "2/2 [==============================] - 0s 2ms/step - loss: 2.9043 - mae: 2.9043\n",
      "Epoch 48/100\n",
      "2/2 [==============================] - 0s 2ms/step - loss: 2.4193 - mae: 2.4193\n",
      "Epoch 49/100\n",
      "2/2 [==============================] - 0s 3ms/step - loss: 2.3618 - mae: 2.3618\n",
      "Epoch 50/100\n",
      "2/2 [==============================] - 0s 2ms/step - loss: 1.9452 - mae: 1.9452\n",
      "Epoch 51/100\n",
      "2/2 [==============================] - 0s 2ms/step - loss: 2.0127 - mae: 2.0127\n",
      "Epoch 52/100\n",
      "2/2 [==============================] - 0s 1ms/step - loss: 2.0653 - mae: 2.0653\n",
      "Epoch 53/100\n",
      "2/2 [==============================] - 0s 2ms/step - loss: 1.7939 - mae: 1.7939\n",
      "Epoch 54/100\n",
      "2/2 [==============================] - 0s 2ms/step - loss: 2.1609 - mae: 2.1609\n",
      "Epoch 55/100\n",
      "2/2 [==============================] - 0s 3ms/step - loss: 1.8695 - mae: 1.8695\n",
      "Epoch 56/100\n",
      "2/2 [==============================] - 0s 2ms/step - loss: 1.9168 - mae: 1.9168\n",
      "Epoch 57/100\n",
      "2/2 [==============================] - 0s 2ms/step - loss: 1.9464 - mae: 1.9464\n",
      "Epoch 58/100\n",
      "2/2 [==============================] - 0s 3ms/step - loss: 1.0620 - mae: 1.0620\n",
      "Epoch 59/100\n",
      "2/2 [==============================] - 0s 2ms/step - loss: 0.8104 - mae: 0.8104\n",
      "Epoch 60/100\n",
      "2/2 [==============================] - 0s 3ms/step - loss: 1.1102 - mae: 1.1102\n",
      "Epoch 61/100\n",
      "2/2 [==============================] - 0s 3ms/step - loss: 1.0435 - mae: 1.0435\n",
      "Epoch 62/100\n",
      "2/2 [==============================] - 0s 3ms/step - loss: 0.7331 - mae: 0.7331\n",
      "Epoch 63/100\n",
      "2/2 [==============================] - 0s 2ms/step - loss: 1.4137 - mae: 1.4137\n",
      "Epoch 64/100\n",
      "2/2 [==============================] - 0s 2ms/step - loss: 0.6152 - mae: 0.6152\n",
      "Epoch 65/100\n",
      "2/2 [==============================] - 0s 2ms/step - loss: 0.6190 - mae: 0.6190\n",
      "Epoch 66/100\n",
      "2/2 [==============================] - 0s 3ms/step - loss: 0.6517 - mae: 0.6517\n",
      "Epoch 67/100\n",
      "2/2 [==============================] - 0s 2ms/step - loss: 0.4743 - mae: 0.4743\n",
      "Epoch 68/100\n",
      "2/2 [==============================] - 0s 1ms/step - loss: 1.0262 - mae: 1.0262\n",
      "Epoch 69/100\n",
      "2/2 [==============================] - 0s 3ms/step - loss: 0.3543 - mae: 0.3543\n",
      "Epoch 70/100\n",
      "2/2 [==============================] - 0s 3ms/step - loss: 2.4101 - mae: 2.4101\n",
      "Epoch 71/100\n",
      "2/2 [==============================] - 0s 2ms/step - loss: 1.1547 - mae: 1.1547\n",
      "Epoch 72/100\n",
      "2/2 [==============================] - 0s 3ms/step - loss: 0.9559 - mae: 0.9559\n",
      "Epoch 73/100\n",
      "2/2 [==============================] - 0s 2ms/step - loss: 0.3881 - mae: 0.3881\n",
      "Epoch 74/100\n",
      "2/2 [==============================] - 0s 2ms/step - loss: 0.3926 - mae: 0.3926\n",
      "Epoch 75/100\n",
      "2/2 [==============================] - 0s 2ms/step - loss: 0.1775 - mae: 0.1775\n",
      "Epoch 76/100\n",
      "2/2 [==============================] - 0s 3ms/step - loss: 0.3618 - mae: 0.3618\n",
      "Epoch 77/100\n",
      "2/2 [==============================] - 0s 1ms/step - loss: 1.1328 - mae: 1.1328\n",
      "Epoch 78/100\n",
      "2/2 [==============================] - 0s 3ms/step - loss: 0.6782 - mae: 0.6782\n",
      "Epoch 79/100\n",
      "2/2 [==============================] - 0s 4ms/step - loss: 0.5293 - mae: 0.5293\n",
      "Epoch 80/100\n",
      "2/2 [==============================] - 0s 2ms/step - loss: 1.4565 - mae: 1.4565\n",
      "Epoch 81/100\n",
      "2/2 [==============================] - 0s 3ms/step - loss: 1.4530 - mae: 1.4530\n",
      "Epoch 82/100\n",
      "2/2 [==============================] - 0s 2ms/step - loss: 0.9640 - mae: 0.9640\n",
      "Epoch 83/100\n",
      "2/2 [==============================] - 0s 3ms/step - loss: 0.8145 - mae: 0.8145\n",
      "Epoch 84/100\n",
      "2/2 [==============================] - 0s 4ms/step - loss: 0.8578 - mae: 0.8578\n",
      "Epoch 85/100\n",
      "2/2 [==============================] - 0s 2ms/step - loss: 0.4384 - mae: 0.4384\n",
      "Epoch 86/100\n",
      "2/2 [==============================] - 0s 2ms/step - loss: 0.2917 - mae: 0.2917\n",
      "Epoch 87/100\n",
      "2/2 [==============================] - 0s 2ms/step - loss: 1.3526 - mae: 1.3526\n",
      "Epoch 88/100\n",
      "2/2 [==============================] - 0s 3ms/step - loss: 0.3295 - mae: 0.3295\n",
      "Epoch 89/100\n"
     ]
    }
   ],
   "source": [
    "model.fit(x_train,y_train,epochs = 100)"
   ]
  },
  {
   "cell_type": "code",
   "execution_count": null,
   "metadata": {
    "colab": {
     "base_uri": "https://localhost:8080/"
    },
    "id": "n1J9iv4yH7lJ",
    "outputId": "09cb47a3-d699-4416-e318-ea5fd494cf69"
   },
   "outputs": [
    {
     "data": {
      "text/plain": [
       "array([[ 69.91444 ],\n",
       "       [ 73.9152  ],\n",
       "       [ 77.915955],\n",
       "       [ 81.91672 ],\n",
       "       [ 85.91747 ],\n",
       "       [ 89.91823 ],\n",
       "       [ 93.91898 ],\n",
       "       [ 97.91975 ],\n",
       "       [101.9205  ],\n",
       "       [105.92125 ]], dtype=float32)"
      ]
     },
     "execution_count": 318,
     "metadata": {},
     "output_type": "execute_result"
    }
   ],
   "source": [
    "y_pred = model.predict(x_test)\n",
    "y_pred"
   ]
  },
  {
   "cell_type": "code",
   "execution_count": null,
   "metadata": {
    "colab": {
     "base_uri": "https://localhost:8080/",
     "height": 445
    },
    "id": "ZvFw5Jj1BYZb",
    "outputId": "1b43de16-4bd7-4727-f312-c4c246d74065"
   },
   "outputs": [
    {
     "data": {
      "text/plain": [
       "<matplotlib.legend.Legend at 0x7f9b1e19e550>"
      ]
     },
     "execution_count": 320,
     "metadata": {},
     "output_type": "execute_result"
    },
    {
     "data": {
      "image/png": "[encoded data removed]",
      "text/plain": [
       "<Figure size 720x504 with 1 Axes>"
      ]
     },
     "metadata": {
      "needs_background": "light"
     },
     "output_type": "display_data"
    }
   ],
   "source": [
    "plt.figure(figsize = (10,7))\n",
    "plt.scatter(x_train,y_train,c = \"b\",label = \"Training Data\")\n",
    "plt.scatter(x_test,y_test,c =\"r\",label = \"Testing Data\")\n",
    "plt.scatter(y_test,y_pred,c = \"g\",label = \"Predictions\")\n",
    "plt.legend()"
   ]
  },
  {
   "cell_type": "markdown",
   "metadata": {
    "id": "Zdzx-OvkCZL3"
   },
   "source": [
    "## Evaluating the model on the test set"
   ]
  },
  {
   "cell_type": "code",
   "execution_count": null,
   "metadata": {
    "colab": {
     "base_uri": "https://localhost:8080/"
    },
    "id": "ecCmpvbnExCP",
    "outputId": "11a48a0d-577b-477c-bccb-0584484443b8"
   },
   "outputs": [
    {
     "name": "stderr",
     "output_type": "stream",
     "text": [
      "WARNING:tensorflow:5 out of the last 6 calls to <function Model.make_test_function.<locals>.test_function at 0x7f9b1dffbb90> triggered tf.function retracing. Tracing is expensive and the excessive number of tracings could be due to (1) creating @tf.function repeatedly in a loop, (2) passing tensors with different shapes, (3) passing Python objects instead of tensors. For (1), please define your @tf.function outside of the loop. For (2), @tf.function has experimental_relax_shapes=True option that relaxes argument shapes that can avoid unnecessary retracing. For (3), please refer to https://www.tensorflow.org/guide/function#controlling_retracing and https://www.tensorflow.org/api_docs/python/tf/function for  more details.\n"
     ]
    },
    {
     "name": "stdout",
     "output_type": "stream",
     "text": [
      "1/1 [==============================] - 0s 90ms/step - loss: 0.0822 - mae: 0.0822\n"
     ]
    },
    {
     "data": {
      "text/plain": [
       "[0.08215103298425674, 0.08215103298425674]"
      ]
     },
     "execution_count": 319,
     "metadata": {},
     "output_type": "execute_result"
    }
   ],
   "source": [
    "model.evaluate(x_test,y_test)"
   ]
  },
  {
   "cell_type": "code",
   "execution_count": null,
   "metadata": {
    "id": "OBNKufPeE0PM"
   },
   "outputs": [],
   "source": []
  }
 ],
 "metadata": {
  "accelerator": "GPU",
  "colab": {
   "collapsed_sections": [],
   "provenance": []
  },
  "kernelspec": {
   "display_name": "Python 3 (ipykernel)",
   "language": "python",
   "name": "python3"
  },
  "language_info": {
   "codemirror_mode": {
    "name": "ipython",
    "version": 3
   },
   "file_extension": ".py",
   "mimetype": "text/x-python",
   "name": "python",
   "nbconvert_exporter": "python",
   "pygments_lexer": "ipython3",
   "version": "3.9.12"
  }
 },
 "nbformat": 4,
 "nbformat_minor": 1
}
